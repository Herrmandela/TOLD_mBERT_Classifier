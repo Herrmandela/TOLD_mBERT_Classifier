{
 "cells": [
  {
   "cell_type": "markdown",
   "metadata": {
    "id": "loIDW2rHiKi5"
   },
   "source": [
    "# **English Binary TOLD Classifier - Frozen Layers**\n",
    "Montag, 21/08/23 16:39\n",
    "\n",
    "Last Modified: Monday, May 22nd, 2024 (Zürich)\n",
    "\n",
    "*Based on Chris McCormick, Nick Ryan, Chollet, HuggingFace WiKi and others\n"
   ]
  },
  {
   "cell_type": "code",
   "source": [
    "from google.colab import drive\n",
    "drive.mount('/content/drive')"
   ],
   "metadata": {
    "colab": {
     "base_uri": "https://localhost:8080/"
    },
    "id": "aBZGDrV_bBxS",
    "executionInfo": {
     "status": "ok",
     "timestamp": 1716396639742,
     "user_tz": -120,
     "elapsed": 22084,
     "user": {
      "displayName": "Manny Sean",
      "userId": "01202240053696434040"
     }
    },
    "outputId": "8371ee70-de9e-4cc5-d68f-767378b963cd"
   },
   "execution_count": null,
   "outputs": [
    {
     "output_type": "stream",
     "name": "stdout",
     "text": [
      "Mounted at /content/drive\n"
     ]
    }
   ]
  },
  {
   "cell_type": "code",
   "outputs": [
    {
     "name": "stdout",
     "output_type": "stream",
     "text": [
      "Hello\n"
     ]
    }
   ],
   "source": [
    "print(\"Hello\")"
   ],
   "metadata": {
    "collapsed": false,
    "ExecuteTime": {
     "end_time": "2024-05-28T09:20:19.510123Z",
     "start_time": "2024-05-28T09:20:19.505972Z"
    }
   },
   "execution_count": 1
  },
  {
   "cell_type": "code",
   "outputs": [
    {
     "name": "stdout",
     "output_type": "stream",
     "text": [
      "#1 A - top of the list\n"
     ]
    }
   ],
   "source": [
    "opinion = input(\"What do you think of the Docker + GitHub Combo?\")\n",
    "print(opinion)"
   ],
   "metadata": {
    "collapsed": false,
    "ExecuteTime": {
     "end_time": "2024-05-28T09:20:38.319892Z",
     "start_time": "2024-05-28T09:20:28.138433Z"
    }
   },
   "execution_count": 3
  },
  {
   "cell_type": "markdown",
   "metadata": {
    "id": "VqyrQTClf8LF"
   },
   "source": [
    "## **1. Install the Hugging Face library**\n",
    "\n",
    "*   Transformers package\n",
    "*   List item\n",
    "\n"
   ]
  },
  {
   "cell_type": "code",
   "execution_count": null,
   "metadata": {
    "colab": {
     "base_uri": "https://localhost:8080/"
    },
    "executionInfo": {
     "elapsed": 5564,
     "status": "ok",
     "timestamp": 1716396645303,
     "user": {
      "displayName": "Manny Sean",
      "userId": "01202240053696434040"
     },
     "user_tz": -120
    },
    "id": "pEySB5aKYesw",
    "outputId": "d8aefcc5-9b10-4c14-a12f-d9cfa979855f"
   },
   "outputs": [
    {
     "output_type": "stream",
     "name": "stdout",
     "text": [
      "Requirement already satisfied: transformers in /usr/local/lib/python3.10/dist-packages (4.41.0)\n",
      "Requirement already satisfied: filelock in /usr/local/lib/python3.10/dist-packages (from transformers) (3.14.0)\n",
      "Requirement already satisfied: huggingface-hub<1.0,>=0.23.0 in /usr/local/lib/python3.10/dist-packages (from transformers) (0.23.0)\n",
      "Requirement already satisfied: numpy>=1.17 in /usr/local/lib/python3.10/dist-packages (from transformers) (1.25.2)\n",
      "Requirement already satisfied: packaging>=20.0 in /usr/local/lib/python3.10/dist-packages (from transformers) (24.0)\n",
      "Requirement already satisfied: pyyaml>=5.1 in /usr/local/lib/python3.10/dist-packages (from transformers) (6.0.1)\n",
      "Requirement already satisfied: regex!=2019.12.17 in /usr/local/lib/python3.10/dist-packages (from transformers) (2023.12.25)\n",
      "Requirement already satisfied: requests in /usr/local/lib/python3.10/dist-packages (from transformers) (2.31.0)\n",
      "Requirement already satisfied: tokenizers<0.20,>=0.19 in /usr/local/lib/python3.10/dist-packages (from transformers) (0.19.1)\n",
      "Requirement already satisfied: safetensors>=0.4.1 in /usr/local/lib/python3.10/dist-packages (from transformers) (0.4.3)\n",
      "Requirement already satisfied: tqdm>=4.27 in /usr/local/lib/python3.10/dist-packages (from transformers) (4.66.4)\n",
      "Requirement already satisfied: fsspec>=2023.5.0 in /usr/local/lib/python3.10/dist-packages (from huggingface-hub<1.0,>=0.23.0->transformers) (2023.6.0)\n",
      "Requirement already satisfied: typing-extensions>=3.7.4.3 in /usr/local/lib/python3.10/dist-packages (from huggingface-hub<1.0,>=0.23.0->transformers) (4.11.0)\n",
      "Requirement already satisfied: charset-normalizer<4,>=2 in /usr/local/lib/python3.10/dist-packages (from requests->transformers) (3.3.2)\n",
      "Requirement already satisfied: idna<4,>=2.5 in /usr/local/lib/python3.10/dist-packages (from requests->transformers) (3.7)\n",
      "Requirement already satisfied: urllib3<3,>=1.21.1 in /usr/local/lib/python3.10/dist-packages (from requests->transformers) (2.0.7)\n",
      "Requirement already satisfied: certifi>=2017.4.17 in /usr/local/lib/python3.10/dist-packages (from requests->transformers) (2024.2.2)\n"
     ]
    }
   ],
   "source": [
    "!pip install transformers"
   ]
  },
  {
   "cell_type": "code",
   "execution_count": null,
   "metadata": {
    "colab": {
     "base_uri": "https://localhost:8080/"
    },
    "executionInfo": {
     "elapsed": 3758,
     "status": "ok",
     "timestamp": 1716396649057,
     "user": {
      "displayName": "Manny Sean",
      "userId": "01202240053696434040"
     },
     "user_tz": -120
    },
    "id": "hqJKUOx7iHjf",
    "outputId": "95156e80-f18d-495b-f09d-8640349bc34d"
   },
   "outputs": [
    {
     "output_type": "stream",
     "name": "stdout",
     "text": [
      "Found GPU at: /device:GPU:0\n"
     ]
    }
   ],
   "source": [
    "import tensorflow as tf\n",
    "\n",
    "# Get the GPU device name,\n",
    "device_name = tf.test.gpu_device_name()\n",
    "\n",
    "# The device name should look like the follwing:\n",
    "if device_name == '/device:GPU:0':\n",
    "  print('Found GPU at: {}'.format(device_name))\n",
    "else:\n",
    "  raise SystemError('GPU device not found')"
   ]
  },
  {
   "cell_type": "markdown",
   "metadata": {
    "id": "jKRc2DALesbh"
   },
   "source": [
    "We need to identify the GPU device because later on we will load data on to the device."
   ]
  },
  {
   "cell_type": "code",
   "execution_count": null,
   "metadata": {
    "id": "fmq6D_htepa2",
    "colab": {
     "base_uri": "https://localhost:8080/"
    },
    "executionInfo": {
     "status": "ok",
     "timestamp": 1716396652099,
     "user_tz": -120,
     "elapsed": 3049,
     "user": {
      "displayName": "Manny Sean",
      "userId": "01202240053696434040"
     }
    },
    "outputId": "35f9501f-ec7b-4229-b5e9-b35c09588d85"
   },
   "outputs": [
    {
     "output_type": "stream",
     "name": "stdout",
     "text": [
      "There are 1 GPU(s) available.\n",
      "We will use the GPU: Tesla V100-SXM2-16GB\n"
     ]
    }
   ],
   "source": [
    "import torch\n",
    "\n",
    "# It there's a GPU available...\n",
    "if torch.cuda.is_available():\n",
    "\n",
    "  # Tell PyTorch to use the GPU.\n",
    "  device = torch.device(\"cuda\")\n",
    "\n",
    "  print('There are %d GPU(s) available.' % torch.cuda.device_count())\n",
    "\n",
    "  print('We will use the GPU:' , torch.cuda.get_device_name(0))\n",
    "\n",
    "# If not\n",
    "else:\n",
    "  print('No GPU is available, using CPU instead.')\n",
    "  device = torch.device('cpu')"
   ]
  },
  {
   "cell_type": "markdown",
   "metadata": {
    "id": "UNgXJZY8gr3-"
   },
   "source": [
    "# **2. Load the English ISB Dataset**\n",
    "\n",
    "Here I'll load the Large English Dataset"
   ]
  },
  {
   "cell_type": "markdown",
   "metadata": {
    "id": "d-ems4NxjJBw"
   },
   "source": [
    "## **2.1 Download, Extract & Trim**"
   ]
  },
  {
   "cell_type": "code",
   "execution_count": null,
   "metadata": {
    "id": "QpZ-XyIQMuA1"
   },
   "outputs": [],
   "source": [
    "import pandas as pd\n",
    "\n",
    "# Load the dataset into a pandas dataframe.\n",
    "\n",
    "df = pd.read_csv(\"/content/drive/MyDrive/data/english/englishData.csv\", on_bad_lines='skip', encoding='ISO-8859-1')\n"
   ]
  },
  {
   "cell_type": "code",
   "execution_count": null,
   "metadata": {
    "colab": {
     "base_uri": "https://localhost:8080/"
    },
    "id": "b1SjtG38MuA1",
    "executionInfo": {
     "status": "ok",
     "timestamp": 1716396667798,
     "user_tz": -120,
     "elapsed": 419,
     "user": {
      "displayName": "Manny Sean",
      "userId": "01202240053696434040"
     }
    },
    "outputId": "01b87f0f-443d-4c01-8079-55bd47aee9a0"
   },
   "outputs": [
    {
     "output_type": "execute_result",
     "data": {
      "text/plain": [
       "Index(['ORDER', 'CODE', 'STRUCTURE', 'ITEM', 'TARGET', 'RESPONSE',\n",
       "       'Error_Types', 'AUTO_SCORING', 'CELF_SCORING', 'TOLD_SCORING',\n",
       "       'GRAMMATICAL', 'STRUCTURE_SCORE', 'GENDER', 'AGE', 'AGE_of_ONSET_EN',\n",
       "       'AGE_of_ONSET_other', 'AoO_bi', 'ENGL_STATUS', 'OTHER_LANG',\n",
       "       'TOTAL_TOLD', 'TOTDAL_CELF', 'TOTAL_STRUCTURE', 'TOTAL_CELF',\n",
       "       'SUBGROUP', 'MLC_CELF', 'MLC_TOLD'],\n",
       "      dtype='object')"
      ]
     },
     "metadata": {},
     "execution_count": 6
    }
   ],
   "source": [
    "df.columns"
   ]
  },
  {
   "cell_type": "markdown",
   "metadata": {
    "id": "G99vHOQpjdjg"
   },
   "source": [
    "## **2.2 Parse**\n",
    "\n",
    "In the file explorer we can see that both the raw and the tokenized version are available.\n",
    "\n",
    "We cannot use the version that is already tonkinized and must thus use the tonnkinzer provided by the model to tokinize the raw data -\n",
    "\n",
    "We'll use Pandas to parse the 'in-domain' training:\n",
    "\n",
    "let's check out the properties and some data points"
   ]
  },
  {
   "cell_type": "code",
   "execution_count": null,
   "metadata": {
    "colab": {
     "base_uri": "https://localhost:8080/",
     "height": 405
    },
    "executionInfo": {
     "elapsed": 461,
     "status": "ok",
     "timestamp": 1716396672653,
     "user": {
      "displayName": "Manny Sean",
      "userId": "01202240053696434040"
     },
     "user_tz": -120
    },
    "id": "fyO0ksf2kDdc",
    "outputId": "dfbf44c9-7a3f-4261-93df-f54cf9f7b113"
   },
   "outputs": [
    {
     "output_type": "stream",
     "name": "stdout",
     "text": [
      "Number of training sentences: 8,100\n"
     ]
    },
    {
     "output_type": "execute_result",
     "data": {
      "text/plain": [
       "      ORDER CODE     STRUCTURE  ITEM  \\\n",
       "4457    202   M7   S_SVO+1_Aux    18   \n",
       "6454     88   S5  S_Obj.Rel_RB     5   \n",
       "\n",
       "                                               TARGET  \\\n",
       "4457   The boy should sweep the floor in the kitchen.   \n",
       "6454  The children enjoyed the cake that they tasted.   \n",
       "\n",
       "                                             RESPONSE Error_Types  \\\n",
       "4457   The boy should sweep the floor in the kitchen.         NaN   \n",
       "6454  The children enjoyed the cake that they tasted.         NaN   \n",
       "\n",
       "      AUTO_SCORING  CELF_SCORING  TOLD_SCORING  ...  AoO_bi  ENGL_STATUS  \\\n",
       "4457             0             3             1  ...     NaN        HL/SL   \n",
       "6454             0             3             1  ...    18.0           SL   \n",
       "\n",
       "     OTHER_LANG  TOTAL_TOLD  TOTDAL_CELF TOTAL_STRUCTURE  TOTAL_CELF  \\\n",
       "4457         na         NaN          NaN             NaN         NaN   \n",
       "6454     Polish         NaN          NaN             NaN         NaN   \n",
       "\n",
       "         SUBGROUP MLC_CELF  MLC_TOLD  \n",
       "4457    Bilingual      C_3       T_1  \n",
       "6454  Monolingual      C_3       T_1  \n",
       "\n",
       "[2 rows x 26 columns]"
      ],
      "text/html": [
       "\n",
       "  <div id=\"df-5080053c-ceaa-4a6d-99b2-ce03845c0e3a\" class=\"colab-df-container\">\n",
       "    <div>\n",
       "<style scoped>\n",
       "    .dataframe tbody tr th:only-of-type {\n",
       "        vertical-align: middle;\n",
       "    }\n",
       "\n",
       "    .dataframe tbody tr th {\n",
       "        vertical-align: top;\n",
       "    }\n",
       "\n",
       "    .dataframe thead th {\n",
       "        text-align: right;\n",
       "    }\n",
       "</style>\n",
       "<table border=\"1\" class=\"dataframe\">\n",
       "  <thead>\n",
       "    <tr style=\"text-align: right;\">\n",
       "      <th></th>\n",
       "      <th>ORDER</th>\n",
       "      <th>CODE</th>\n",
       "      <th>STRUCTURE</th>\n",
       "      <th>ITEM</th>\n",
       "      <th>TARGET</th>\n",
       "      <th>RESPONSE</th>\n",
       "      <th>Error_Types</th>\n",
       "      <th>AUTO_SCORING</th>\n",
       "      <th>CELF_SCORING</th>\n",
       "      <th>TOLD_SCORING</th>\n",
       "      <th>...</th>\n",
       "      <th>AoO_bi</th>\n",
       "      <th>ENGL_STATUS</th>\n",
       "      <th>OTHER_LANG</th>\n",
       "      <th>TOTAL_TOLD</th>\n",
       "      <th>TOTDAL_CELF</th>\n",
       "      <th>TOTAL_STRUCTURE</th>\n",
       "      <th>TOTAL_CELF</th>\n",
       "      <th>SUBGROUP</th>\n",
       "      <th>MLC_CELF</th>\n",
       "      <th>MLC_TOLD</th>\n",
       "    </tr>\n",
       "  </thead>\n",
       "  <tbody>\n",
       "    <tr>\n",
       "      <th>4457</th>\n",
       "      <td>202</td>\n",
       "      <td>M7</td>\n",
       "      <td>S_SVO+1_Aux</td>\n",
       "      <td>18</td>\n",
       "      <td>The boy should sweep the floor in the kitchen.</td>\n",
       "      <td>The boy should sweep the floor in the kitchen.</td>\n",
       "      <td>NaN</td>\n",
       "      <td>0</td>\n",
       "      <td>3</td>\n",
       "      <td>1</td>\n",
       "      <td>...</td>\n",
       "      <td>NaN</td>\n",
       "      <td>HL/SL</td>\n",
       "      <td>na</td>\n",
       "      <td>NaN</td>\n",
       "      <td>NaN</td>\n",
       "      <td>NaN</td>\n",
       "      <td>NaN</td>\n",
       "      <td>Bilingual</td>\n",
       "      <td>C_3</td>\n",
       "      <td>T_1</td>\n",
       "    </tr>\n",
       "    <tr>\n",
       "      <th>6454</th>\n",
       "      <td>88</td>\n",
       "      <td>S5</td>\n",
       "      <td>S_Obj.Rel_RB</td>\n",
       "      <td>5</td>\n",
       "      <td>The children enjoyed the cake that they tasted.</td>\n",
       "      <td>The children enjoyed the cake that they tasted.</td>\n",
       "      <td>NaN</td>\n",
       "      <td>0</td>\n",
       "      <td>3</td>\n",
       "      <td>1</td>\n",
       "      <td>...</td>\n",
       "      <td>18.0</td>\n",
       "      <td>SL</td>\n",
       "      <td>Polish</td>\n",
       "      <td>NaN</td>\n",
       "      <td>NaN</td>\n",
       "      <td>NaN</td>\n",
       "      <td>NaN</td>\n",
       "      <td>Monolingual</td>\n",
       "      <td>C_3</td>\n",
       "      <td>T_1</td>\n",
       "    </tr>\n",
       "  </tbody>\n",
       "</table>\n",
       "<p>2 rows × 26 columns</p>\n",
       "</div>\n",
       "    <div class=\"colab-df-buttons\">\n",
       "\n",
       "  <div class=\"colab-df-container\">\n",
       "    <button class=\"colab-df-convert\" onclick=\"convertToInteractive('df-5080053c-ceaa-4a6d-99b2-ce03845c0e3a')\"\n",
       "            title=\"Convert this dataframe to an interactive table.\"\n",
       "            style=\"display:none;\">\n",
       "\n",
       "  <svg xmlns=\"http://www.w3.org/2000/svg\" height=\"24px\" viewBox=\"0 -960 960 960\">\n",
       "    <path d=\"M120-120v-720h720v720H120Zm60-500h600v-160H180v160Zm220 220h160v-160H400v160Zm0 220h160v-160H400v160ZM180-400h160v-160H180v160Zm440 0h160v-160H620v160ZM180-180h160v-160H180v160Zm440 0h160v-160H620v160Z\"/>\n",
       "  </svg>\n",
       "    </button>\n",
       "\n",
       "  <style>\n",
       "    .colab-df-container {\n",
       "      display:flex;\n",
       "      gap: 12px;\n",
       "    }\n",
       "\n",
       "    .colab-df-convert {\n",
       "      background-color: #E8F0FE;\n",
       "      border: none;\n",
       "      border-radius: 50%;\n",
       "      cursor: pointer;\n",
       "      display: none;\n",
       "      fill: #1967D2;\n",
       "      height: 32px;\n",
       "      padding: 0 0 0 0;\n",
       "      width: 32px;\n",
       "    }\n",
       "\n",
       "    .colab-df-convert:hover {\n",
       "      background-color: #E2EBFA;\n",
       "      box-shadow: 0px 1px 2px rgba(60, 64, 67, 0.3), 0px 1px 3px 1px rgba(60, 64, 67, 0.15);\n",
       "      fill: #174EA6;\n",
       "    }\n",
       "\n",
       "    .colab-df-buttons div {\n",
       "      margin-bottom: 4px;\n",
       "    }\n",
       "\n",
       "    [theme=dark] .colab-df-convert {\n",
       "      background-color: #3B4455;\n",
       "      fill: #D2E3FC;\n",
       "    }\n",
       "\n",
       "    [theme=dark] .colab-df-convert:hover {\n",
       "      background-color: #434B5C;\n",
       "      box-shadow: 0px 1px 3px 1px rgba(0, 0, 0, 0.15);\n",
       "      filter: drop-shadow(0px 1px 2px rgba(0, 0, 0, 0.3));\n",
       "      fill: #FFFFFF;\n",
       "    }\n",
       "  </style>\n",
       "\n",
       "    <script>\n",
       "      const buttonEl =\n",
       "        document.querySelector('#df-5080053c-ceaa-4a6d-99b2-ce03845c0e3a button.colab-df-convert');\n",
       "      buttonEl.style.display =\n",
       "        google.colab.kernel.accessAllowed ? 'block' : 'none';\n",
       "\n",
       "      async function convertToInteractive(key) {\n",
       "        const element = document.querySelector('#df-5080053c-ceaa-4a6d-99b2-ce03845c0e3a');\n",
       "        const dataTable =\n",
       "          await google.colab.kernel.invokeFunction('convertToInteractive',\n",
       "                                                    [key], {});\n",
       "        if (!dataTable) return;\n",
       "\n",
       "        const docLinkHtml = 'Like what you see? Visit the ' +\n",
       "          '<a target=\"_blank\" href=https://colab.research.google.com/notebooks/data_table.ipynb>data table notebook</a>'\n",
       "          + ' to learn more about interactive tables.';\n",
       "        element.innerHTML = '';\n",
       "        dataTable['output_type'] = 'display_data';\n",
       "        await google.colab.output.renderOutput(dataTable, element);\n",
       "        const docLink = document.createElement('div');\n",
       "        docLink.innerHTML = docLinkHtml;\n",
       "        element.appendChild(docLink);\n",
       "      }\n",
       "    </script>\n",
       "  </div>\n",
       "\n",
       "\n",
       "<div id=\"df-37431f16-88c3-4b97-aaff-52339782094d\">\n",
       "  <button class=\"colab-df-quickchart\" onclick=\"quickchart('df-37431f16-88c3-4b97-aaff-52339782094d')\"\n",
       "            title=\"Suggest charts\"\n",
       "            style=\"display:none;\">\n",
       "\n",
       "<svg xmlns=\"http://www.w3.org/2000/svg\" height=\"24px\"viewBox=\"0 0 24 24\"\n",
       "     width=\"24px\">\n",
       "    <g>\n",
       "        <path d=\"M19 3H5c-1.1 0-2 .9-2 2v14c0 1.1.9 2 2 2h14c1.1 0 2-.9 2-2V5c0-1.1-.9-2-2-2zM9 17H7v-7h2v7zm4 0h-2V7h2v10zm4 0h-2v-4h2v4z\"/>\n",
       "    </g>\n",
       "</svg>\n",
       "  </button>\n",
       "\n",
       "<style>\n",
       "  .colab-df-quickchart {\n",
       "      --bg-color: #E8F0FE;\n",
       "      --fill-color: #1967D2;\n",
       "      --hover-bg-color: #E2EBFA;\n",
       "      --hover-fill-color: #174EA6;\n",
       "      --disabled-fill-color: #AAA;\n",
       "      --disabled-bg-color: #DDD;\n",
       "  }\n",
       "\n",
       "  [theme=dark] .colab-df-quickchart {\n",
       "      --bg-color: #3B4455;\n",
       "      --fill-color: #D2E3FC;\n",
       "      --hover-bg-color: #434B5C;\n",
       "      --hover-fill-color: #FFFFFF;\n",
       "      --disabled-bg-color: #3B4455;\n",
       "      --disabled-fill-color: #666;\n",
       "  }\n",
       "\n",
       "  .colab-df-quickchart {\n",
       "    background-color: var(--bg-color);\n",
       "    border: none;\n",
       "    border-radius: 50%;\n",
       "    cursor: pointer;\n",
       "    display: none;\n",
       "    fill: var(--fill-color);\n",
       "    height: 32px;\n",
       "    padding: 0;\n",
       "    width: 32px;\n",
       "  }\n",
       "\n",
       "  .colab-df-quickchart:hover {\n",
       "    background-color: var(--hover-bg-color);\n",
       "    box-shadow: 0 1px 2px rgba(60, 64, 67, 0.3), 0 1px 3px 1px rgba(60, 64, 67, 0.15);\n",
       "    fill: var(--button-hover-fill-color);\n",
       "  }\n",
       "\n",
       "  .colab-df-quickchart-complete:disabled,\n",
       "  .colab-df-quickchart-complete:disabled:hover {\n",
       "    background-color: var(--disabled-bg-color);\n",
       "    fill: var(--disabled-fill-color);\n",
       "    box-shadow: none;\n",
       "  }\n",
       "\n",
       "  .colab-df-spinner {\n",
       "    border: 2px solid var(--fill-color);\n",
       "    border-color: transparent;\n",
       "    border-bottom-color: var(--fill-color);\n",
       "    animation:\n",
       "      spin 1s steps(1) infinite;\n",
       "  }\n",
       "\n",
       "  @keyframes spin {\n",
       "    0% {\n",
       "      border-color: transparent;\n",
       "      border-bottom-color: var(--fill-color);\n",
       "      border-left-color: var(--fill-color);\n",
       "    }\n",
       "    20% {\n",
       "      border-color: transparent;\n",
       "      border-left-color: var(--fill-color);\n",
       "      border-top-color: var(--fill-color);\n",
       "    }\n",
       "    30% {\n",
       "      border-color: transparent;\n",
       "      border-left-color: var(--fill-color);\n",
       "      border-top-color: var(--fill-color);\n",
       "      border-right-color: var(--fill-color);\n",
       "    }\n",
       "    40% {\n",
       "      border-color: transparent;\n",
       "      border-right-color: var(--fill-color);\n",
       "      border-top-color: var(--fill-color);\n",
       "    }\n",
       "    60% {\n",
       "      border-color: transparent;\n",
       "      border-right-color: var(--fill-color);\n",
       "    }\n",
       "    80% {\n",
       "      border-color: transparent;\n",
       "      border-right-color: var(--fill-color);\n",
       "      border-bottom-color: var(--fill-color);\n",
       "    }\n",
       "    90% {\n",
       "      border-color: transparent;\n",
       "      border-bottom-color: var(--fill-color);\n",
       "    }\n",
       "  }\n",
       "</style>\n",
       "\n",
       "  <script>\n",
       "    async function quickchart(key) {\n",
       "      const quickchartButtonEl =\n",
       "        document.querySelector('#' + key + ' button');\n",
       "      quickchartButtonEl.disabled = true;  // To prevent multiple clicks.\n",
       "      quickchartButtonEl.classList.add('colab-df-spinner');\n",
       "      try {\n",
       "        const charts = await google.colab.kernel.invokeFunction(\n",
       "            'suggestCharts', [key], {});\n",
       "      } catch (error) {\n",
       "        console.error('Error during call to suggestCharts:', error);\n",
       "      }\n",
       "      quickchartButtonEl.classList.remove('colab-df-spinner');\n",
       "      quickchartButtonEl.classList.add('colab-df-quickchart-complete');\n",
       "    }\n",
       "    (() => {\n",
       "      let quickchartButtonEl =\n",
       "        document.querySelector('#df-37431f16-88c3-4b97-aaff-52339782094d button');\n",
       "      quickchartButtonEl.style.display =\n",
       "        google.colab.kernel.accessAllowed ? 'block' : 'none';\n",
       "    })();\n",
       "  </script>\n",
       "</div>\n",
       "    </div>\n",
       "  </div>\n"
      ],
      "application/vnd.google.colaboratory.intrinsic+json": {
       "type": "dataframe"
      }
     },
     "metadata": {},
     "execution_count": 7
    }
   ],
   "source": [
    "# Report the number of sentences.\n",
    "print('Number of training sentences: {:,}\\n'.format(df.shape[0]))\n",
    "\n",
    "# Display 10 random rows from the data.\n",
    "df.sample(2)"
   ]
  },
  {
   "cell_type": "markdown",
   "metadata": {
    "id": "IOUwv8gNidJ8"
   },
   "source": [
    "We actually only care about two properties - sentence and label, which ascribes a \"0\" for unacceptable and \"1\" for accepable.  "
   ]
  },
  {
   "cell_type": "code",
   "execution_count": null,
   "metadata": {
    "colab": {
     "base_uri": "https://localhost:8080/",
     "height": 206
    },
    "executionInfo": {
     "elapsed": 359,
     "status": "ok",
     "timestamp": 1716396675009,
     "user": {
      "displayName": "Manny Sean",
      "userId": "01202240053696434040"
     },
     "user_tz": -120
    },
    "id": "fbC2LbZskxxG",
    "outputId": "d938362c-51d6-41c3-f808-7f3eb6d14c0a"
   },
   "outputs": [
    {
     "output_type": "execute_result",
     "data": {
      "text/plain": [
       "          STRUCTURE                                             TARGET  \\\n",
       "1311    S_SVO+2_Aux  They have been riding the horse around the gar...   \n",
       "6985        S_Cond.  He wouldnât have brought his friend if she w...   \n",
       "6322    S_WH-quest.                 Who have they seen near the steps?   \n",
       "2449  S_Short_Pass.             She was stopped at the big red lights.   \n",
       "5590   S_Obj.Rel_CE  The boy that the teacher helped has lost his way.   \n",
       "\n",
       "                                               RESPONSE  CELF_SCORING  \\\n",
       "1311      They were riding the horse around the garden.             1   \n",
       "6985  He wouldnât have brought her friend if she w...             2   \n",
       "6322               Who have they seen nearby the steps?             2   \n",
       "2449                     She was at the big red lights.             2   \n",
       "5590     The boy had the teacher help ... lost his way.             1   \n",
       "\n",
       "      TOLD_SCORING  \n",
       "1311             0  \n",
       "6985             0  \n",
       "6322             0  \n",
       "2449             0  \n",
       "5590             0  "
      ],
      "text/html": [
       "\n",
       "  <div id=\"df-f2a6ff11-ecac-4afa-8ec7-7a2ecc5112c6\" class=\"colab-df-container\">\n",
       "    <div>\n",
       "<style scoped>\n",
       "    .dataframe tbody tr th:only-of-type {\n",
       "        vertical-align: middle;\n",
       "    }\n",
       "\n",
       "    .dataframe tbody tr th {\n",
       "        vertical-align: top;\n",
       "    }\n",
       "\n",
       "    .dataframe thead th {\n",
       "        text-align: right;\n",
       "    }\n",
       "</style>\n",
       "<table border=\"1\" class=\"dataframe\">\n",
       "  <thead>\n",
       "    <tr style=\"text-align: right;\">\n",
       "      <th></th>\n",
       "      <th>STRUCTURE</th>\n",
       "      <th>TARGET</th>\n",
       "      <th>RESPONSE</th>\n",
       "      <th>CELF_SCORING</th>\n",
       "      <th>TOLD_SCORING</th>\n",
       "    </tr>\n",
       "  </thead>\n",
       "  <tbody>\n",
       "    <tr>\n",
       "      <th>1311</th>\n",
       "      <td>S_SVO+2_Aux</td>\n",
       "      <td>They have been riding the horse around the gar...</td>\n",
       "      <td>They were riding the horse around the garden.</td>\n",
       "      <td>1</td>\n",
       "      <td>0</td>\n",
       "    </tr>\n",
       "    <tr>\n",
       "      <th>6985</th>\n",
       "      <td>S_Cond.</td>\n",
       "      <td>He wouldnât have brought his friend if she w...</td>\n",
       "      <td>He wouldnât have brought her friend if she w...</td>\n",
       "      <td>2</td>\n",
       "      <td>0</td>\n",
       "    </tr>\n",
       "    <tr>\n",
       "      <th>6322</th>\n",
       "      <td>S_WH-quest.</td>\n",
       "      <td>Who have they seen near the steps?</td>\n",
       "      <td>Who have they seen nearby the steps?</td>\n",
       "      <td>2</td>\n",
       "      <td>0</td>\n",
       "    </tr>\n",
       "    <tr>\n",
       "      <th>2449</th>\n",
       "      <td>S_Short_Pass.</td>\n",
       "      <td>She was stopped at the big red lights.</td>\n",
       "      <td>She was at the big red lights.</td>\n",
       "      <td>2</td>\n",
       "      <td>0</td>\n",
       "    </tr>\n",
       "    <tr>\n",
       "      <th>5590</th>\n",
       "      <td>S_Obj.Rel_CE</td>\n",
       "      <td>The boy that the teacher helped has lost his way.</td>\n",
       "      <td>The boy had the teacher help ... lost his way.</td>\n",
       "      <td>1</td>\n",
       "      <td>0</td>\n",
       "    </tr>\n",
       "  </tbody>\n",
       "</table>\n",
       "</div>\n",
       "    <div class=\"colab-df-buttons\">\n",
       "\n",
       "  <div class=\"colab-df-container\">\n",
       "    <button class=\"colab-df-convert\" onclick=\"convertToInteractive('df-f2a6ff11-ecac-4afa-8ec7-7a2ecc5112c6')\"\n",
       "            title=\"Convert this dataframe to an interactive table.\"\n",
       "            style=\"display:none;\">\n",
       "\n",
       "  <svg xmlns=\"http://www.w3.org/2000/svg\" height=\"24px\" viewBox=\"0 -960 960 960\">\n",
       "    <path d=\"M120-120v-720h720v720H120Zm60-500h600v-160H180v160Zm220 220h160v-160H400v160Zm0 220h160v-160H400v160ZM180-400h160v-160H180v160Zm440 0h160v-160H620v160ZM180-180h160v-160H180v160Zm440 0h160v-160H620v160Z\"/>\n",
       "  </svg>\n",
       "    </button>\n",
       "\n",
       "  <style>\n",
       "    .colab-df-container {\n",
       "      display:flex;\n",
       "      gap: 12px;\n",
       "    }\n",
       "\n",
       "    .colab-df-convert {\n",
       "      background-color: #E8F0FE;\n",
       "      border: none;\n",
       "      border-radius: 50%;\n",
       "      cursor: pointer;\n",
       "      display: none;\n",
       "      fill: #1967D2;\n",
       "      height: 32px;\n",
       "      padding: 0 0 0 0;\n",
       "      width: 32px;\n",
       "    }\n",
       "\n",
       "    .colab-df-convert:hover {\n",
       "      background-color: #E2EBFA;\n",
       "      box-shadow: 0px 1px 2px rgba(60, 64, 67, 0.3), 0px 1px 3px 1px rgba(60, 64, 67, 0.15);\n",
       "      fill: #174EA6;\n",
       "    }\n",
       "\n",
       "    .colab-df-buttons div {\n",
       "      margin-bottom: 4px;\n",
       "    }\n",
       "\n",
       "    [theme=dark] .colab-df-convert {\n",
       "      background-color: #3B4455;\n",
       "      fill: #D2E3FC;\n",
       "    }\n",
       "\n",
       "    [theme=dark] .colab-df-convert:hover {\n",
       "      background-color: #434B5C;\n",
       "      box-shadow: 0px 1px 3px 1px rgba(0, 0, 0, 0.15);\n",
       "      filter: drop-shadow(0px 1px 2px rgba(0, 0, 0, 0.3));\n",
       "      fill: #FFFFFF;\n",
       "    }\n",
       "  </style>\n",
       "\n",
       "    <script>\n",
       "      const buttonEl =\n",
       "        document.querySelector('#df-f2a6ff11-ecac-4afa-8ec7-7a2ecc5112c6 button.colab-df-convert');\n",
       "      buttonEl.style.display =\n",
       "        google.colab.kernel.accessAllowed ? 'block' : 'none';\n",
       "\n",
       "      async function convertToInteractive(key) {\n",
       "        const element = document.querySelector('#df-f2a6ff11-ecac-4afa-8ec7-7a2ecc5112c6');\n",
       "        const dataTable =\n",
       "          await google.colab.kernel.invokeFunction('convertToInteractive',\n",
       "                                                    [key], {});\n",
       "        if (!dataTable) return;\n",
       "\n",
       "        const docLinkHtml = 'Like what you see? Visit the ' +\n",
       "          '<a target=\"_blank\" href=https://colab.research.google.com/notebooks/data_table.ipynb>data table notebook</a>'\n",
       "          + ' to learn more about interactive tables.';\n",
       "        element.innerHTML = '';\n",
       "        dataTable['output_type'] = 'display_data';\n",
       "        await google.colab.output.renderOutput(dataTable, element);\n",
       "        const docLink = document.createElement('div');\n",
       "        docLink.innerHTML = docLinkHtml;\n",
       "        element.appendChild(docLink);\n",
       "      }\n",
       "    </script>\n",
       "  </div>\n",
       "\n",
       "\n",
       "<div id=\"df-d52c8b0c-52de-4d96-ac51-529ecd935977\">\n",
       "  <button class=\"colab-df-quickchart\" onclick=\"quickchart('df-d52c8b0c-52de-4d96-ac51-529ecd935977')\"\n",
       "            title=\"Suggest charts\"\n",
       "            style=\"display:none;\">\n",
       "\n",
       "<svg xmlns=\"http://www.w3.org/2000/svg\" height=\"24px\"viewBox=\"0 0 24 24\"\n",
       "     width=\"24px\">\n",
       "    <g>\n",
       "        <path d=\"M19 3H5c-1.1 0-2 .9-2 2v14c0 1.1.9 2 2 2h14c1.1 0 2-.9 2-2V5c0-1.1-.9-2-2-2zM9 17H7v-7h2v7zm4 0h-2V7h2v10zm4 0h-2v-4h2v4z\"/>\n",
       "    </g>\n",
       "</svg>\n",
       "  </button>\n",
       "\n",
       "<style>\n",
       "  .colab-df-quickchart {\n",
       "      --bg-color: #E8F0FE;\n",
       "      --fill-color: #1967D2;\n",
       "      --hover-bg-color: #E2EBFA;\n",
       "      --hover-fill-color: #174EA6;\n",
       "      --disabled-fill-color: #AAA;\n",
       "      --disabled-bg-color: #DDD;\n",
       "  }\n",
       "\n",
       "  [theme=dark] .colab-df-quickchart {\n",
       "      --bg-color: #3B4455;\n",
       "      --fill-color: #D2E3FC;\n",
       "      --hover-bg-color: #434B5C;\n",
       "      --hover-fill-color: #FFFFFF;\n",
       "      --disabled-bg-color: #3B4455;\n",
       "      --disabled-fill-color: #666;\n",
       "  }\n",
       "\n",
       "  .colab-df-quickchart {\n",
       "    background-color: var(--bg-color);\n",
       "    border: none;\n",
       "    border-radius: 50%;\n",
       "    cursor: pointer;\n",
       "    display: none;\n",
       "    fill: var(--fill-color);\n",
       "    height: 32px;\n",
       "    padding: 0;\n",
       "    width: 32px;\n",
       "  }\n",
       "\n",
       "  .colab-df-quickchart:hover {\n",
       "    background-color: var(--hover-bg-color);\n",
       "    box-shadow: 0 1px 2px rgba(60, 64, 67, 0.3), 0 1px 3px 1px rgba(60, 64, 67, 0.15);\n",
       "    fill: var(--button-hover-fill-color);\n",
       "  }\n",
       "\n",
       "  .colab-df-quickchart-complete:disabled,\n",
       "  .colab-df-quickchart-complete:disabled:hover {\n",
       "    background-color: var(--disabled-bg-color);\n",
       "    fill: var(--disabled-fill-color);\n",
       "    box-shadow: none;\n",
       "  }\n",
       "\n",
       "  .colab-df-spinner {\n",
       "    border: 2px solid var(--fill-color);\n",
       "    border-color: transparent;\n",
       "    border-bottom-color: var(--fill-color);\n",
       "    animation:\n",
       "      spin 1s steps(1) infinite;\n",
       "  }\n",
       "\n",
       "  @keyframes spin {\n",
       "    0% {\n",
       "      border-color: transparent;\n",
       "      border-bottom-color: var(--fill-color);\n",
       "      border-left-color: var(--fill-color);\n",
       "    }\n",
       "    20% {\n",
       "      border-color: transparent;\n",
       "      border-left-color: var(--fill-color);\n",
       "      border-top-color: var(--fill-color);\n",
       "    }\n",
       "    30% {\n",
       "      border-color: transparent;\n",
       "      border-left-color: var(--fill-color);\n",
       "      border-top-color: var(--fill-color);\n",
       "      border-right-color: var(--fill-color);\n",
       "    }\n",
       "    40% {\n",
       "      border-color: transparent;\n",
       "      border-right-color: var(--fill-color);\n",
       "      border-top-color: var(--fill-color);\n",
       "    }\n",
       "    60% {\n",
       "      border-color: transparent;\n",
       "      border-right-color: var(--fill-color);\n",
       "    }\n",
       "    80% {\n",
       "      border-color: transparent;\n",
       "      border-right-color: var(--fill-color);\n",
       "      border-bottom-color: var(--fill-color);\n",
       "    }\n",
       "    90% {\n",
       "      border-color: transparent;\n",
       "      border-bottom-color: var(--fill-color);\n",
       "    }\n",
       "  }\n",
       "</style>\n",
       "\n",
       "  <script>\n",
       "    async function quickchart(key) {\n",
       "      const quickchartButtonEl =\n",
       "        document.querySelector('#' + key + ' button');\n",
       "      quickchartButtonEl.disabled = true;  // To prevent multiple clicks.\n",
       "      quickchartButtonEl.classList.add('colab-df-spinner');\n",
       "      try {\n",
       "        const charts = await google.colab.kernel.invokeFunction(\n",
       "            'suggestCharts', [key], {});\n",
       "      } catch (error) {\n",
       "        console.error('Error during call to suggestCharts:', error);\n",
       "      }\n",
       "      quickchartButtonEl.classList.remove('colab-df-spinner');\n",
       "      quickchartButtonEl.classList.add('colab-df-quickchart-complete');\n",
       "    }\n",
       "    (() => {\n",
       "      let quickchartButtonEl =\n",
       "        document.querySelector('#df-d52c8b0c-52de-4d96-ac51-529ecd935977 button');\n",
       "      quickchartButtonEl.style.display =\n",
       "        google.colab.kernel.accessAllowed ? 'block' : 'none';\n",
       "    })();\n",
       "  </script>\n",
       "</div>\n",
       "    </div>\n",
       "  </div>\n"
      ],
      "application/vnd.google.colaboratory.intrinsic+json": {
       "type": "dataframe",
       "summary": "{\n  \"name\": \"df\",\n  \"rows\": 5,\n  \"fields\": [\n    {\n      \"column\": \"STRUCTURE\",\n      \"properties\": {\n        \"dtype\": \"string\",\n        \"num_unique_values\": 5,\n        \"samples\": [\n          \"S_Cond.\",\n          \"S_Obj.Rel_CE\",\n          \"S_WH-quest.\"\n        ],\n        \"semantic_type\": \"\",\n        \"description\": \"\"\n      }\n    },\n    {\n      \"column\": \"TARGET\",\n      \"properties\": {\n        \"dtype\": \"string\",\n        \"num_unique_values\": 5,\n        \"samples\": [\n          \"He wouldn\\u00e2\\u0080\\u0099t have brought his friend if she was nasty.\",\n          \"The boy that the teacher helped has lost his way.\",\n          \"Who have they seen near the steps?\"\n        ],\n        \"semantic_type\": \"\",\n        \"description\": \"\"\n      }\n    },\n    {\n      \"column\": \"RESPONSE\",\n      \"properties\": {\n        \"dtype\": \"string\",\n        \"num_unique_values\": 5,\n        \"samples\": [\n          \"He wouldn\\u00e2\\u0080\\u0099t have brought her friend if she was nasty.\",\n          \"The boy had the teacher help ... lost his way.\",\n          \"Who have they seen nearby the steps?\"\n        ],\n        \"semantic_type\": \"\",\n        \"description\": \"\"\n      }\n    },\n    {\n      \"column\": \"CELF_SCORING\",\n      \"properties\": {\n        \"dtype\": \"number\",\n        \"std\": 0,\n        \"min\": 1,\n        \"max\": 2,\n        \"num_unique_values\": 2,\n        \"samples\": [\n          2,\n          1\n        ],\n        \"semantic_type\": \"\",\n        \"description\": \"\"\n      }\n    },\n    {\n      \"column\": \"TOLD_SCORING\",\n      \"properties\": {\n        \"dtype\": \"number\",\n        \"std\": 0,\n        \"min\": 0,\n        \"max\": 0,\n        \"num_unique_values\": 1,\n        \"samples\": [\n          0\n        ],\n        \"semantic_type\": \"\",\n        \"description\": \"\"\n      }\n    }\n  ]\n}"
      }
     },
     "metadata": {},
     "execution_count": 8
    }
   ],
   "source": [
    "df.loc[df.TOLD_SCORING ==0].sample(5)[['STRUCTURE','TARGET','RESPONSE','CELF_SCORING','TOLD_SCORING']]"
   ]
  },
  {
   "cell_type": "markdown",
   "metadata": {
    "id": "KO-pFi1LnUKf"
   },
   "source": [
    "Next we can extract thee sentences and labels of our training set as numpy ndarrays."
   ]
  },
  {
   "cell_type": "code",
   "execution_count": null,
   "metadata": {
    "id": "ZImUq04rjEXR"
   },
   "outputs": [],
   "source": [
    "responses = df.RESPONSE.values\n",
    "scores = df.TOLD_SCORING.values"
   ]
  },
  {
   "cell_type": "raw",
   "metadata": {
    "id": "FFeHbAEYno12"
   },
   "source": [
    "# **3. Tokenization and input formatting**\n",
    " This is where we transform our data to a from that mBERT can work with\n",
    "\n",
    "\n",
    "## **3.1 BERT tokenizer**\n",
    " We have to tokinze the text; split it into tokens that are the mapped to their respective indises."
   ]
  },
  {
   "cell_type": "code",
   "execution_count": null,
   "metadata": {
    "id": "Zq-ygz0FpbGk"
   },
   "outputs": [],
   "source": [
    "PATH = \"/content/drive/MyDrive/data/mBERT\""
   ]
  },
  {
   "cell_type": "code",
   "execution_count": null,
   "metadata": {
    "colab": {
     "base_uri": "https://localhost:8080/"
    },
    "executionInfo": {
     "elapsed": 3682,
     "status": "ok",
     "timestamp": 1716396693083,
     "user": {
      "displayName": "Manny Sean",
      "userId": "01202240053696434040"
     },
     "user_tz": -120
    },
    "id": "yOaJiCdDnlML",
    "outputId": "21f4aa32-53d2-4378-ead0-db0ec0851a35"
   },
   "outputs": [
    {
     "output_type": "stream",
     "name": "stdout",
     "text": [
      "Loading the mBERT Tokenizer\n"
     ]
    }
   ],
   "source": [
    "from transformers import BertTokenizer\n",
    "\n",
    "# Load the tokenizer\n",
    "print('Loading the mBERT Tokenizer')\n",
    "\n",
    "tokenizer = BertTokenizer.from_pretrained(PATH, do_lower_case=True)"
   ]
  },
  {
   "cell_type": "markdown",
   "metadata": {
    "id": "8lVUDjQX5MmS"
   },
   "source": [
    "##  **3.2 Required Formatting**\n",
    "\n",
    "1) We're required to add special tokens to the start and end of each sentence.\n",
    "\n",
    "2) We're required by BERT to Pad and Truncate all sentences to a single constant length.\n",
    "\n",
    "3) WE're required to explicitly differentiate real tokens from padding tokens with the \"attention mask\".\n",
    "\n",
    "### Special tokens\n",
    "\n",
    "### [SEP]\n",
    "This is the seperator token and occursa at the end of every sentence.\n",
    "\n",
    "### [CLS]\n",
    "This token is for classification tasks, and must be prepended to each start of a sentence.\n",
    "\n",
    "### Max_Length\n",
    "The max length BERT can handle is 512 - every thing longer must be truncated. This impacts training and evaluation speeds.\n",
    "\n",
    "### [PAD]\n",
    "Special Padding token which has the 0 index in BERT vocabulary.\n",
    "\n",
    "### Attention-Masks\n",
    "Are a simple array of 0s and 1s that indicate whether the token is padding or not. thus telling the model whether or not it should incorporate the token in its interpretation of the sentence."
   ]
  },
  {
   "cell_type": "markdown",
   "metadata": {
    "id": "WS1vlKfWAU0j"
   },
   "source": [
    "## **3.3 Tokenize Dataset**\n",
    "\n",
    "We'll use the encode function, provided by the transformers library to handle all our parsing and data-prep needs.\n"
   ]
  },
  {
   "cell_type": "code",
   "execution_count": null,
   "metadata": {
    "colab": {
     "base_uri": "https://localhost:8080/"
    },
    "executionInfo": {
     "elapsed": 2617,
     "status": "ok",
     "timestamp": 1716396710396,
     "user": {
      "displayName": "Manny Sean",
      "userId": "01202240053696434040"
     },
     "user_tz": -120
    },
    "id": "KLTiNbtwCwSh",
    "outputId": "e01a0b45-4324-46ee-fa38-44b1e26e277e"
   },
   "outputs": [
    {
     "output_type": "stream",
     "name": "stdout",
     "text": [
      "Max sentence length:  24\n"
     ]
    }
   ],
   "source": [
    "\n",
    "max_len = 0\n",
    "\n",
    "# iterate through the sentences\n",
    "for response in responses:\n",
    "\n",
    "  # Tokenize the text and add '[CLS]' and '[SEP]' tokens.\n",
    "  input_ids = tokenizer.encode(response, add_special_tokens=True)\n",
    "\n",
    "  # Update the maximum sentence length - so that it is as long as the longest input ID\n",
    "  max_len = max(max_len, len(input_ids))\n",
    "\n",
    "print('Max sentence length: ', max_len)"
   ]
  },
  {
   "cell_type": "markdown",
   "metadata": {
    "id": "0B5km4psDzeQ"
   },
   "source": [
    "but just incase there are longer sentences, lets set max_len to 28 ⏰"
   ]
  },
  {
   "cell_type": "markdown",
   "metadata": {
    "id": "tUBOKiY1ErWr"
   },
   "source": [
    "Now let's perform the real tokinization\n",
    "\n",
    "*   split the sentences in to tokens\n",
    "*   add '[CLS]' and '[SEP]' tokens\n",
    "*   Map the tokens to their IDs\n",
    "*   Pad or truncate all sentences to the smae length\n",
    "*   Create the attention masks which explicitly differentiate real tokens from [PAD] tokens\n",
    "\n",
    "We'll use tokenizer.encode_plus\n"
   ]
  },
  {
   "cell_type": "code",
   "execution_count": null,
   "metadata": {
    "colab": {
     "base_uri": "https://localhost:8080/"
    },
    "executionInfo": {
     "elapsed": 3273,
     "status": "ok",
     "timestamp": 1716396718581,
     "user": {
      "displayName": "Manny Sean",
      "userId": "01202240053696434040"
     },
     "user_tz": -120
    },
    "id": "P0EiAUN2PX7n",
    "outputId": "9750ac32-df75-4711-8681-335fd3b08bbe"
   },
   "outputs": [
    {
     "output_type": "stream",
     "name": "stderr",
     "text": [
      "Truncation was not explicitly activated but `max_length` is provided a specific value, please use `truncation=True` to explicitly truncate examples to max length. Defaulting to 'longest_first' truncation strategy. If you encode pairs of sequences (GLUE-style) with the tokenizer you can select this strategy more precisely by providing a specific strategy to `truncation`.\n",
      "/usr/local/lib/python3.10/dist-packages/transformers/tokenization_utils_base.py:2699: FutureWarning: The `pad_to_max_length` argument is deprecated and will be removed in a future version, use `padding=True` or `padding='longest'` to pad to the longest sequence in the batch, or use `padding='max_length'` to pad to a max length. In this case, you can give a specific length with `max_length` (e.g. `max_length=45`) or leave max_length to None to pad to the maximal input size of the model (e.g. 512 for Bert).\n",
      "  warnings.warn(\n"
     ]
    },
    {
     "output_type": "stream",
     "name": "stdout",
     "text": [
      " Original:  He was kicked by the leg by the donkey.\n",
      " Token Ids:  tensor([  101, 10261, 10134, 55321, 10336, 10155, 10105, 33810, 10155, 10105,\n",
      "        16938, 25975,   119,   102,     0,     0,     0,     0,     0,     0,\n",
      "            0,     0,     0,     0,     0,     0,     0,     0,     0,     0,\n",
      "            0,     0,     0,     0,     0,     0,     0,     0,     0,     0,\n",
      "            0,     0,     0,     0])\n"
     ]
    }
   ],
   "source": [
    "# Tokenize all of the sentences and map the toknes to their word IDs\n",
    "input_ids = []\n",
    "attention_masks = []\n",
    "\n",
    "# For every sentence...\n",
    "for response in responses:\n",
    "  # Encode_plus will...\n",
    "  # 1) Tokenize the sentence\n",
    "  # 2) Prepend the '[CLS]' token to the start.\n",
    "  # 3) Append the '[SEP]' token to the send.\n",
    "  # 4) Map the tokens ti their IDs.\n",
    "  # 5) Pad or truncate the sentence to 'max_length'\n",
    "  # 6) Create attention masks for [PAD] tokens.\n",
    "  encoded_dict = tokenizer.encode_plus(\n",
    "      response,                           # Sentence to encode.\n",
    "      add_special_tokens = True,      # Add '[CLS]' and '[SEP]'\n",
    "      max_length = 44,                # Pad & truncate all sentences.\n",
    "      pad_to_max_length = True,\n",
    "      return_attention_mask = True,   # Construct attn. masks.\n",
    "      return_tensors = 'pt',          # Return pytorch tensors.\n",
    "    )\n",
    "\n",
    "  # Add the encoded sentence to the list.\n",
    "  input_ids.append(encoded_dict['input_ids'])\n",
    "\n",
    "  # Attention_masks differentiate relevant information from padding\n",
    "  attention_masks.append(encoded_dict['attention_mask'])\n",
    "\n",
    "# Convert the lists into tensors.\n",
    "input_ids = torch.cat(input_ids, dim=0)\n",
    "attention_masks = torch.cat(attention_masks, dim=0)\n",
    "scores = torch.tensor(scores)\n",
    "\n",
    "# Print sentence 0, now as a list of IDs.\n",
    "print(' Original: ', responses[32])\n",
    "print(' Token Ids: ', input_ids[32])"
   ]
  },
  {
   "cell_type": "markdown",
   "metadata": {
    "id": "1l2BNR08SLDB"
   },
   "source": [
    "## **3.4 Training & Validation Split**\n",
    "Divide up out training set to use 90% for training and 10% for validation"
   ]
  },
  {
   "cell_type": "code",
   "execution_count": null,
   "metadata": {
    "colab": {
     "base_uri": "https://localhost:8080/"
    },
    "executionInfo": {
     "elapsed": 296,
     "status": "ok",
     "timestamp": 1716396725225,
     "user": {
      "displayName": "Manny Sean",
      "userId": "01202240053696434040"
     },
     "user_tz": -120
    },
    "id": "STxirx3LSI01",
    "outputId": "87db8c89-1597-46d4-e66f-827b40f2b494"
   },
   "outputs": [
    {
     "output_type": "stream",
     "name": "stdout",
     "text": [
      "7,290 training samples\n",
      "  810 validation samples\n"
     ]
    }
   ],
   "source": [
    "from torch.utils.data import TensorDataset, random_split\n",
    "\n",
    "# Combine the training inputs into a TensorDataset.\n",
    "dataset = TensorDataset(input_ids, attention_masks, scores)\n",
    "\n",
    "# Creat a 90-10 train-validation split and calculate the number of samples to include in each set.\n",
    "train_size = int(0.9 * len(dataset))\n",
    "val_size = len(dataset) - train_size\n",
    "\n",
    "# Divide the dataset by randomly selecting samples.\n",
    "train_dataset, val_dataset = random_split(dataset, [train_size, val_size])\n",
    "\n",
    "print('{:>5,} training samples'.format(train_size))\n",
    "print('{:>5,} validation samples'.format(val_size))"
   ]
  },
  {
   "cell_type": "markdown",
   "metadata": {
    "id": "4EW27iQYE3vI"
   },
   "source": [
    "### **Save memory** (Batch Size)\n",
    "Itorator iterates over the dataset - only portions of the data are loaded into memory at any one time."
   ]
  },
  {
   "cell_type": "code",
   "execution_count": null,
   "metadata": {
    "id": "EOVNU3A-WfVp"
   },
   "outputs": [],
   "source": [
    "from torch.utils.data import DataLoader, RandomSampler, SequentialSampler\n",
    "\n",
    "# The DataLoader needs to know our batchsize for training, so we specify it here.\n",
    "# For fine-tuning BERT on a specific task, the authors recommend the size of 16 or 32.\n",
    "batch_size = 256\n",
    "\n",
    "# Create the DataLoaders for our training and validation sets.\n",
    "train_dataloader = DataLoader(\n",
    "    train_dataset,                           # The training samples\n",
    "    sampler = RandomSampler(train_dataset), # Select batches randomly\n",
    "    batch_size = batch_size                 # Trains with the set Batch size\n",
    ")\n",
    "\n",
    "\n",
    "# For the validation the order doesn't matter, so they'll be read sequentially\n",
    "validation_dataloader = DataLoader(\n",
    "    val_dataset,                            # Validation samples\n",
    "    sampler = SequentialSampler(val_dataset),\n",
    "    batch_size = batch_size                 # evaluate with the set Batch size\n",
    ")"
   ]
  },
  {
   "cell_type": "markdown",
   "metadata": {
    "id": "-_jnRRLldlWL"
   },
   "source": [
    "# **4. Train Classification Model**\n",
    "\n",
    "Once the input data is properly formatted we can start fine-tuning the mBERT model\n",
    "\n",
    "## **4.1. BertForSequenceClassification**\n",
    "for this task, we first want to modify the pre-trained BERT model to complete our downstream task i.e. to give outputs for classification.\n",
    "\n",
    "BERT comes with various interfaces designed to sit ontop of the trained model and accomodate specific NLP tasks.\n",
    "\n",
    "BertModel\n",
    "BertForPreTraining\n",
    "BertForMaskedLM\n",
    "BertForNextSentencePrediction\n",
    "**BertForSequenceClassification** <- this is the one we'll use.\n",
    "BertForMultipleChoice\n",
    "BertForTokenClassification\n",
    "BertForQuestionAnswering\n",
    "\n"
   ]
  },
  {
   "cell_type": "code",
   "execution_count": null,
   "metadata": {
    "colab": {
     "base_uri": "https://localhost:8080/"
    },
    "executionInfo": {
     "elapsed": 12192,
     "status": "ok",
     "timestamp": 1716396742549,
     "user": {
      "displayName": "Manny Sean",
      "userId": "01202240053696434040"
     },
     "user_tz": -120
    },
    "id": "laROUMaajW6E",
    "outputId": "7683ab0f-1551-4448-8dfc-caca1b765843"
   },
   "outputs": [
    {
     "output_type": "stream",
     "name": "stderr",
     "text": [
      "Some weights of BertForSequenceClassification were not initialized from the model checkpoint at /content/drive/MyDrive/data/mBERT and are newly initialized: ['classifier.bias', 'classifier.weight']\n",
      "You should probably TRAIN this model on a down-stream task to be able to use it for predictions and inference.\n"
     ]
    },
    {
     "output_type": "execute_result",
     "data": {
      "text/plain": [
       "BertForSequenceClassification(\n",
       "  (bert): BertModel(\n",
       "    (embeddings): BertEmbeddings(\n",
       "      (word_embeddings): Embedding(119547, 768, padding_idx=0)\n",
       "      (position_embeddings): Embedding(512, 768)\n",
       "      (token_type_embeddings): Embedding(2, 768)\n",
       "      (LayerNorm): LayerNorm((768,), eps=1e-12, elementwise_affine=True)\n",
       "      (dropout): Dropout(p=0.1, inplace=False)\n",
       "    )\n",
       "    (encoder): BertEncoder(\n",
       "      (layer): ModuleList(\n",
       "        (0-11): 12 x BertLayer(\n",
       "          (attention): BertAttention(\n",
       "            (self): BertSdpaSelfAttention(\n",
       "              (query): Linear(in_features=768, out_features=768, bias=True)\n",
       "              (key): Linear(in_features=768, out_features=768, bias=True)\n",
       "              (value): Linear(in_features=768, out_features=768, bias=True)\n",
       "              (dropout): Dropout(p=0.1, inplace=False)\n",
       "            )\n",
       "            (output): BertSelfOutput(\n",
       "              (dense): Linear(in_features=768, out_features=768, bias=True)\n",
       "              (LayerNorm): LayerNorm((768,), eps=1e-12, elementwise_affine=True)\n",
       "              (dropout): Dropout(p=0.1, inplace=False)\n",
       "            )\n",
       "          )\n",
       "          (intermediate): BertIntermediate(\n",
       "            (dense): Linear(in_features=768, out_features=3072, bias=True)\n",
       "            (intermediate_act_fn): GELUActivation()\n",
       "          )\n",
       "          (output): BertOutput(\n",
       "            (dense): Linear(in_features=3072, out_features=768, bias=True)\n",
       "            (LayerNorm): LayerNorm((768,), eps=1e-12, elementwise_affine=True)\n",
       "            (dropout): Dropout(p=0.1, inplace=False)\n",
       "          )\n",
       "        )\n",
       "      )\n",
       "    )\n",
       "    (pooler): BertPooler(\n",
       "      (dense): Linear(in_features=768, out_features=768, bias=True)\n",
       "      (activation): Tanh()\n",
       "    )\n",
       "  )\n",
       "  (dropout): Dropout(p=0.1, inplace=False)\n",
       "  (classifier): Linear(in_features=768, out_features=2, bias=True)\n",
       ")"
      ]
     },
     "metadata": {},
     "execution_count": 17
    }
   ],
   "source": [
    "from transformers import BertForSequenceClassification, AdamW, BertConfig\n",
    "\n",
    "# Load BertForSequenceClassification, the pretrained BERT model with a single linear classification layer on top\n",
    "\n",
    "model = BertForSequenceClassification.from_pretrained(\n",
    "    PATH,                           # Use the 12-layer BERT model, with an uncased vocab.\n",
    "    num_labels = 2,                 # The number of output labels--2 for binary classification - Can be increased for multiclassification tasks.\n",
    "    output_attentions = False,      # Whether the model should return attention weights\n",
    "    output_hidden_states = False,   # Whether the model should return all hidden states\n",
    ")\n",
    "\n",
    "\"\"\"\n",
    "for name, param in model.named_parameters():\n",
    "\tif 'classifier' not in name: # classifier layer\n",
    "\t\tparam.requires_grad = False\n",
    "\n",
    "## inherentParam\n",
    "list(model.parameters())[5].requires_grad = True\n",
    "list(model.parameters())[-4].requires_grad = True\n",
    "\n",
    "\n",
    "# ShallowFreeze+pooler\n",
    "#list(model.parameters())[53].requires_grad = True\n",
    "#list(model.parameters())[-4].requires_grad = True\n",
    "\"\"\"\n",
    "model.cuda()                        # Tell the model to run on GPU"
   ]
  },
  {
   "cell_type": "markdown",
   "metadata": {
    "id": "OWb5qZsak5-R"
   },
   "source": [
    "## So what are the models' parameters?\n",
    "## Let's explore them here in detail here.\n",
    "\n",
    " 1) The embedding layer.\n",
    "\n",
    " 2) The first of the twelve transformers.\n",
    "\n",
    " 3) The output layer.\n"
   ]
  },
  {
   "cell_type": "markdown",
   "metadata": {
    "id": "dyDyRReFnB-6"
   },
   "source": [
    "## **4.2. Optimizer & Learning Rate Scheduler**\n",
    "\n",
    "Once the model is loaded with the Data, we need to proceed to retrieving the Hyperparamerters from within the stored model.\n",
    "\n",
    "the Authors recommend choosing from the following values:\n",
    "\n",
    "* Batch size: 16, 32\n",
    "* Learning rate (Adam): 5e-5, 3e-5, 2e-5\n",
    "* Number of epochs: 2, 3, 4\n",
    "\n",
    "My Choice:\n",
    "\n",
    "* Batch size: 16 <-- This was set earlier with the DataLoader\n",
    "* Learning rate: 2e-5\n",
    "* Epochs: 4\n",
    "\n",
    "the Epsilon numbers are there to prevent any devision my 0; they are very small."
   ]
  },
  {
   "cell_type": "markdown",
   "metadata": {
    "id": "ELAh-xVxpG8S"
   },
   "source": [
    "### **Defining the Optimizer parameters**"
   ]
  },
  {
   "cell_type": "code",
   "execution_count": null,
   "metadata": {
    "id": "lYxUk12NowGz",
    "colab": {
     "base_uri": "https://localhost:8080/"
    },
    "executionInfo": {
     "status": "ok",
     "timestamp": 1716396749022,
     "user_tz": -120,
     "elapsed": 848,
     "user": {
      "displayName": "Manny Sean",
      "userId": "01202240053696434040"
     }
    },
    "outputId": "7a651f45-3679-4cc1-dc2c-2d3e8dd9ee66"
   },
   "outputs": [
    {
     "output_type": "stream",
     "name": "stderr",
     "text": [
      "/usr/local/lib/python3.10/dist-packages/transformers/optimization.py:588: FutureWarning: This implementation of AdamW is deprecated and will be removed in a future version. Use the PyTorch implementation torch.optim.AdamW instead, or set `no_deprecation_warning=True` to disable this warning\n",
      "  warnings.warn(\n"
     ]
    }
   ],
   "source": [
    "optimizer = AdamW(model.parameters(),\n",
    "                  lr = 2e-5,      # args.learning_rate - default is 5e-5, our notebook had 2e-5\n",
    "                  eps = 1e-8)     # args.adam_epsilon  - default is 1e-8."
   ]
  },
  {
   "cell_type": "code",
   "execution_count": null,
   "metadata": {
    "id": "Y8NQckzjpOLO"
   },
   "outputs": [],
   "source": [
    "from transformers import get_linear_schedule_with_warmup\n",
    "\n",
    "# Number of training epochs. The BERT authors recommend between 2 and 4 epochs - perhaps we'll see that 4 overfits.\n",
    "epochs = 4\n",
    "\n",
    "# The total number of training steps is the [number of batches] x [number of epochs] ** not equal to traing samples!!\n",
    "total_steps = len(train_dataloader) * epochs\n",
    "\n",
    "# Create the learning rate scheduler.\n",
    "scheduler = get_linear_schedule_with_warmup(optimizer,\n",
    "                                              num_warmup_steps = 0,  # run_glue.py default value\n",
    "                                              num_training_steps = total_steps)"
   ]
  },
  {
   "cell_type": "markdown",
   "metadata": {
    "id": "yo70PACoqcLT"
   },
   "source": [
    "## **4.3. Training loop**\n",
    "\n",
    "for each pass i our training loop we have a training phase and a validation phase.\n",
    "\n",
    "**Training:**\n",
    "\n",
    "* Unpack our inputs and labels\n",
    "* Load data onto the GPU for acceleration\n",
    "* Clear out the gradients calculated in the previous pass.\n",
    "  * in PyTorch the gradients accumulate by default unless explicitly stated.\n",
    "* Forward pass (feed input data throught the network)\n",
    "* Backward pass (back propagation)\n",
    "* Tell the network to update parameters with optimizer.step()\n",
    "* Track the variables for monitoring progress\n",
    "\n",
    "**Evaluation:**\n",
    "\n",
    "* Unpack your data inputs and labels\n",
    "* Load data onto the GPU for acceleration\n",
    "* Forward pass (feed input data throught the network)\n",
    "* Compute loss on our validation data and track variables for monotoring progress\n",
    "* Although PyTorch hides all the detailed calculations, we've commented all the code to poit out which of the above steps are happening on each line."
   ]
  },
  {
   "cell_type": "markdown",
   "metadata": {
    "id": "84iFGWuvyadO"
   },
   "source": [
    "## **Helper function for the calculating accuracy**"
   ]
  },
  {
   "cell_type": "code",
   "execution_count": null,
   "metadata": {
    "id": "7cyjypeyylx8"
   },
   "outputs": [],
   "source": [
    "import numpy as np\n",
    "\n",
    "# Function to calculate the accuracy of our predictions vs labels\n",
    "def flat_accuracy(preds, scores):\n",
    "  pred_flat = np.argmax(preds, axis=1).flatten()\n",
    "  scores_flat = scores.flatten()\n",
    "  return np.sum(pred_flat == scores_flat)/ len(scores_flat)\n"
   ]
  },
  {
   "cell_type": "markdown",
   "metadata": {
    "id": "hbiPzWF_0e0G"
   },
   "source": [
    "## **Helper function for formatting the elapsed time as hh:mm:ss**"
   ]
  },
  {
   "cell_type": "code",
   "execution_count": null,
   "metadata": {
    "id": "E3WHNz9W0ZDM"
   },
   "outputs": [],
   "source": [
    "import time\n",
    "import datetime\n",
    "\n",
    "def format_time(elapsed):\n",
    "  '''\n",
    "  Takes a time in seconds adn returns a string hh:mm:ss\n",
    "  '''\n",
    "  # Round to the nearest second.\n",
    "  elapsed_rounded = int(round((elapsed)))\n",
    "\n",
    "  # Format as hh:mm:ss\n",
    "  return str(datetime.timedelta(seconds = elapsed_rounded))"
   ]
  },
  {
   "cell_type": "markdown",
   "metadata": {
    "id": "jxithzyH1UP1"
   },
   "source": [
    "# **Training**"
   ]
  },
  {
   "cell_type": "code",
   "execution_count": null,
   "metadata": {
    "colab": {
     "base_uri": "https://localhost:8080/"
    },
    "executionInfo": {
     "elapsed": 60553,
     "status": "ok",
     "timestamp": 1716396828794,
     "user": {
      "displayName": "Manny Sean",
      "userId": "01202240053696434040"
     },
     "user_tz": -120
    },
    "id": "f3uUpJus1TGZ",
    "outputId": "65c7aafc-9706-4e2c-c211-f57a5a6389d8"
   },
   "outputs": [
    {
     "output_type": "stream",
     "name": "stdout",
     "text": [
      " \n",
      "======== Epoch 1/4 ========\n",
      "Training...\n",
      "\n",
      "  Average training loss: 0.49\n",
      "  Training epcoh took: 0:00:16\n",
      "\n",
      " Running Validation...\n",
      "  Accuracy: 0.80\n",
      "  Validation Loss: 0.47\n",
      "  Validation took: 0:00:01\n",
      " \n",
      "======== Epoch 2/4 ========\n",
      "Training...\n",
      "\n",
      "  Average training loss: 0.28\n",
      "  Training epcoh took: 0:00:14\n",
      "\n",
      " Running Validation...\n",
      "  Accuracy: 0.87\n",
      "  Validation Loss: 0.36\n",
      "  Validation took: 0:00:01\n",
      " \n",
      "======== Epoch 3/4 ========\n",
      "Training...\n",
      "\n",
      "  Average training loss: 0.18\n",
      "  Training epcoh took: 0:00:14\n",
      "\n",
      " Running Validation...\n",
      "  Accuracy: 0.90\n",
      "  Validation Loss: 0.32\n",
      "  Validation took: 0:00:01\n",
      " \n",
      "======== Epoch 4/4 ========\n",
      "Training...\n",
      "\n",
      "  Average training loss: 0.14\n",
      "  Training epcoh took: 0:00:14\n",
      "\n",
      " Running Validation...\n",
      "  Accuracy: 0.91\n",
      "  Validation Loss: 0.31\n",
      "  Validation took: 0:00:01\n",
      "\n",
      "Training complete!\n",
      "Total training took 0:01:00 (h:mm:ss)\n"
     ]
    }
   ],
   "source": [
    "import random\n",
    "import numpy as np\n",
    "\n",
    "# This training code is based on the 'run_glue.py' script found here:\n",
    "# https://github.com/huggingface/transformers/blob/5bfcd0485ece086ebcbed2d008813037968a9e58/examples/run_glue.py#L128\n",
    "\n",
    "# Set the seed value all over the place to make this reproducible.\n",
    "seed_val = 22\n",
    "\n",
    "random.seed(seed_val)\n",
    "np.random.seed(seed_val)\n",
    "torch.manual_seed(seed_val)\n",
    "torch.cuda.manual_seed_all(seed_val)\n",
    "\n",
    "# We'll store a number of quantities such as training and validation loss,\n",
    "# Validation accuracy, and timings.\n",
    "training_stats = []\n",
    "\n",
    "# measure the total training time for the whole run.\n",
    "total_t0 = time.time()\n",
    "\n",
    "# For each epoch...\n",
    "for epoch_i in range(0, epochs):\n",
    "\n",
    "    # ========================================\n",
    "    #               Training\n",
    "    # ========================================\n",
    "\n",
    "    # Perform one full pass over the training set.\n",
    "\n",
    "  print(\" \")\n",
    "  print(\"======== Epoch {:}/{:} ========\".format(epoch_i + 1, epochs))\n",
    "  print(\"Training...\")\n",
    "\n",
    "  # Measure how long the training epoch takes.\n",
    "  t0 = time.time()\n",
    "\n",
    "  # Reset the total loss for this epoch.\n",
    "  total_train_loss = 0\n",
    "\n",
    "  # Put the model into training mode. Don't be mislead--the call to\n",
    "  # 'train' just flips the *mode*, it doesn't *perform* the training.\n",
    "  # 'dropout' and 'batchnorm' layers behave differently during the training\n",
    "  # vs 'test'(source: https://stackoverflow.com/questions/51433378/what-does-model-train-do-in-pytorch)\n",
    "  model.train()\n",
    "\n",
    "  # For each batch of training data...\n",
    "  for step, batch in enumerate(train_dataloader):\n",
    "\n",
    "    # Progress update every 40 batches.\n",
    "    if step % 40 == 0 and not step == 0:\n",
    "      # Calculate elapsed time in minutes.\n",
    "      elapsed = format_time(time.time() - t0)\n",
    "\n",
    "      # Report progress\n",
    "      print(' Batch {:>5,} of {:>5,}. Elapsed: {:}.'. format(step, len(train_dataloader), elapsed))\n",
    "\n",
    "    # Unpack this training batch from our dataloader.\n",
    "    #\n",
    "    # As we unpack the batch, we'll also copy each tensor  to the\n",
    "    # GPU using the 'to' method.\n",
    "    #\n",
    "    #'batch' contains three PyTorch tensors\n",
    "    #       [0]: input ids\n",
    "    #       [1]: attention masks\n",
    "    #       [2]: labels\n",
    "    b_input_ids = batch[0].to(device)\n",
    "    b_input_mask = batch[1].to(device)\n",
    "    b_scores = batch[2].to(device)\n",
    "\n",
    "\n",
    "    # Always clear any previously calculated gradients before preforming a\n",
    "    # Backwards pass. PyTorch doesn't do this automatically because\n",
    "    # accumulatinf the gradient is \"convienient while training\" RNNs.\n",
    "    # (source: https://stackoverflow.com/questions/48001598/why-do-we-need-to-call-zero-grad-in-pytorch)\n",
    "    model.zero_grad()\n",
    "\n",
    "    # Perform a forward pass (Evaluate the model on the training batch).\n",
    "    # The documentation for this 'model' function is here:\n",
    "    # https://huggingface.co/transformers/v2.2.0/model_doc/bert.html#transformers.BertForSequenceClassification\n",
    "    # They return different numbers of parameters depending on what arguments\n",
    "    # are given and flags are set. For out use-case, it returns the loss\n",
    "    # because we provided labels\n",
    "    # -- and it also returns the 'logits' -- the model outputs prior to activation\n",
    "    result = model(b_input_ids,\n",
    "                   token_type_ids=None,\n",
    "                   attention_mask = b_input_mask,\n",
    "                   labels = b_scores)\n",
    "\n",
    "    loss = result.loss\n",
    "    logits = result.logits\n",
    "\n",
    "    # Accumulate the training loss over all of the batches so that we can\n",
    "    # calculate the average loss at the end. 'loss' is a Tensor containging a\n",
    "    # single value; the '.item()' function just returns the PyTorch value\n",
    "    # fromt the tensor.\n",
    "    total_train_loss += loss.item()\n",
    "\n",
    "    # Perform a backward pass to calculate the gradients.\n",
    "    loss.backward()\n",
    "\n",
    "    # Clip the norm of the gradients to 1.0.\n",
    "    # This is to help prevent the \"exploding gradient\" problem.\n",
    "    torch.nn.utils.clip_grad_norm_(model.parameters(), 1.0)\n",
    "\n",
    "    # Updare parameters and take a step usiung the copmputed gradient.\n",
    "    # The optimizer dictates the \"update rule\" --how the parameters are\n",
    "    # modified based on their gradients, the learning rate, etc.\n",
    "    optimizer.step()\n",
    "\n",
    "    # Update the learning rate\n",
    "    scheduler.step()\n",
    "\n",
    "  # Calculate the average loss over all of the batches.\n",
    "  avg_train_loss = total_train_loss / len(train_dataloader)\n",
    "\n",
    "  # Measure how long this epoch took.\n",
    "  training_time = format_time(time.time() - t0)\n",
    "\n",
    "  print(\"\")\n",
    "  print(\"  Average training loss: {0:.2f}\".format(avg_train_loss))\n",
    "  print(\"  Training epcoh took: {:}\".format(training_time))\n",
    "\n",
    "  # ========================================\n",
    "  #               Validation\n",
    "  # ========================================\n",
    "  # After the completion of each training epoch, measure our performance on\n",
    "  # our validation set.\n",
    "\n",
    "\n",
    "  print(\"\")\n",
    "  print(\" Running Validation...\")\n",
    "\n",
    "  t0 = time.time()\n",
    "\n",
    "  # Put the model in evaluation mode--the dropout layers behave\n",
    "  # during evaluation.\n",
    "  model.eval()\n",
    "\n",
    "\n",
    "  #Tracking variables\n",
    "  total_eval_accuracy = 0\n",
    "  total_eval_loss = 0\n",
    "  nb_eval_steps = 0\n",
    "\n",
    "  # Evaluate data for one epoch\n",
    "  for batch in validation_dataloader:\n",
    "\n",
    "    # Unpack this validation batch from our dataloader.\n",
    "    #\n",
    "    # As we unpack the batch, we'll also copy each tensor  to the\n",
    "    # GPU using the 'to' method.\n",
    "    #\n",
    "    #'batch' contains three PyTorch tensors\n",
    "    #       [0]: input ids\n",
    "    #       [1]: attention masks\n",
    "    #       [2]: labels\n",
    "    b_input_ids = batch[0].to(device)\n",
    "    b_input_mask = batch[1].to(device)\n",
    "    b_scores = batch[2].to(device)\n",
    "\n",
    "\n",
    "    # Tell PyTorch not to bother with constructing the compute the graph during\n",
    "    # The forward pass, since this is only needed for backpropogation\n",
    "    with torch.no_grad():\n",
    "\n",
    "      # Forward pass, calculate logit predictions.\n",
    "      # token_type_ids is the same as the \"segment ids\", which\n",
    "      # diffentiates sentence 1 and 2 in 2-sentence tasks.\n",
    "      # The documentation for this 'model' function is here:\n",
    "      # https://huggingface.co/transformers/v2.2.0/model_doc/bert.html#transformers.BertForSequenceClassification\n",
    "      # Get the 'logits' output by the model. The 'logits' are the output\n",
    "      # values prior to applying an activation function like the softmax\n",
    "      result = model(b_input_ids,\n",
    "                     token_type_ids=None,\n",
    "                     attention_mask=b_input_mask,\n",
    "                     labels=b_scores,\n",
    "                     return_dict=True)\n",
    "\n",
    "    # Get the loss and \"logits\" output by the model. The \"logits\" are the\n",
    "    # output values prior to applying an activation function like the\n",
    "    # softmax.\n",
    "    loss = result.loss\n",
    "    logits = result.logits\n",
    "\n",
    "    # Accumulate the validation loss.\n",
    "    total_eval_loss += loss.item()\n",
    "\n",
    "    # Move logits and labels to CPU\n",
    "    logits = logits.detach().cpu().numpy()\n",
    "    score_ids = b_scores.to('cpu').numpy()\n",
    "\n",
    "    # Calculate the overall accuravy for this batch of test sentences, and\n",
    "    # accumulate it over all batches.\n",
    "    total_eval_accuracy += flat_accuracy(logits, score_ids)\n",
    "\n",
    "  # Report the final accuracy for this validation run.\n",
    "  avg_val_accuracy = total_eval_accuracy / len(validation_dataloader)\n",
    "  print(\"  Accuracy: {0:.2f}\".format(avg_val_accuracy))\n",
    "\n",
    "  # Calculate the average loss over all of the batches.\n",
    "  avg_val_loss = total_eval_loss / len(validation_dataloader)\n",
    "\n",
    "  # Measure how long the validation run took.\n",
    "  validation_time = format_time(time.time() - t0)\n",
    "\n",
    "  print(\"  Validation Loss: {0:.2f}\".format(avg_val_loss))\n",
    "  print(\"  Validation took: {:}\".format(validation_time))\n",
    "\n",
    "  # Record all statistics from this epoch.\n",
    "  training_stats.append(\n",
    "      {\n",
    "          'epoch' : epoch_i + 1,\n",
    "          'Training Loss' : avg_train_loss,\n",
    "          'Valid. Loss' : avg_val_loss,\n",
    "          'Valid. Accur.' : avg_val_accuracy,\n",
    "          'Training Time' : training_time,\n",
    "          'Validation Time' : validation_time\n",
    "      }\n",
    "  )\n",
    "\n",
    "print(\"\")\n",
    "print(\"Training complete!\")\n",
    "\n",
    "print(\"Total training took {:} (h:mm:ss)\".format(format_time(time.time()-total_t0)))\n"
   ]
  },
  {
   "cell_type": "markdown",
   "metadata": {
    "id": "4JFw1oLCKh-A"
   },
   "source": [
    "## Now, lets view the summary of the training process.\n"
   ]
  },
  {
   "cell_type": "code",
   "execution_count": null,
   "metadata": {
    "colab": {
     "base_uri": "https://localhost:8080/",
     "height": 206
    },
    "executionInfo": {
     "elapsed": 7,
     "status": "ok",
     "timestamp": 1716396829308,
     "user": {
      "displayName": "Manny Sean",
      "userId": "01202240053696434040"
     },
     "user_tz": -120
    },
    "id": "B7ASt11fKpe-",
    "outputId": "e6d3920f-d5b9-48ca-be23-e887995d026b"
   },
   "outputs": [
    {
     "output_type": "execute_result",
     "data": {
      "text/plain": [
       "       Training Loss  Valid. Loss  Valid. Accur. Training Time Validation Time\n",
       "epoch                                                                         \n",
       "1               0.49         0.47           0.80       0:00:16         0:00:01\n",
       "2               0.28         0.36           0.87       0:00:14         0:00:01\n",
       "3               0.18         0.32           0.90       0:00:14         0:00:01\n",
       "4               0.14         0.31           0.91       0:00:14         0:00:01"
      ],
      "text/html": [
       "\n",
       "  <div id=\"df-4cdb06a6-02f7-47b5-bd96-05b5267d4cfa\" class=\"colab-df-container\">\n",
       "    <div>\n",
       "<style scoped>\n",
       "    .dataframe tbody tr th:only-of-type {\n",
       "        vertical-align: middle;\n",
       "    }\n",
       "\n",
       "    .dataframe tbody tr th {\n",
       "        vertical-align: top;\n",
       "    }\n",
       "\n",
       "    .dataframe thead th {\n",
       "        text-align: right;\n",
       "    }\n",
       "</style>\n",
       "<table border=\"1\" class=\"dataframe\">\n",
       "  <thead>\n",
       "    <tr style=\"text-align: right;\">\n",
       "      <th></th>\n",
       "      <th>Training Loss</th>\n",
       "      <th>Valid. Loss</th>\n",
       "      <th>Valid. Accur.</th>\n",
       "      <th>Training Time</th>\n",
       "      <th>Validation Time</th>\n",
       "    </tr>\n",
       "    <tr>\n",
       "      <th>epoch</th>\n",
       "      <th></th>\n",
       "      <th></th>\n",
       "      <th></th>\n",
       "      <th></th>\n",
       "      <th></th>\n",
       "    </tr>\n",
       "  </thead>\n",
       "  <tbody>\n",
       "    <tr>\n",
       "      <th>1</th>\n",
       "      <td>0.49</td>\n",
       "      <td>0.47</td>\n",
       "      <td>0.80</td>\n",
       "      <td>0:00:16</td>\n",
       "      <td>0:00:01</td>\n",
       "    </tr>\n",
       "    <tr>\n",
       "      <th>2</th>\n",
       "      <td>0.28</td>\n",
       "      <td>0.36</td>\n",
       "      <td>0.87</td>\n",
       "      <td>0:00:14</td>\n",
       "      <td>0:00:01</td>\n",
       "    </tr>\n",
       "    <tr>\n",
       "      <th>3</th>\n",
       "      <td>0.18</td>\n",
       "      <td>0.32</td>\n",
       "      <td>0.90</td>\n",
       "      <td>0:00:14</td>\n",
       "      <td>0:00:01</td>\n",
       "    </tr>\n",
       "    <tr>\n",
       "      <th>4</th>\n",
       "      <td>0.14</td>\n",
       "      <td>0.31</td>\n",
       "      <td>0.91</td>\n",
       "      <td>0:00:14</td>\n",
       "      <td>0:00:01</td>\n",
       "    </tr>\n",
       "  </tbody>\n",
       "</table>\n",
       "</div>\n",
       "    <div class=\"colab-df-buttons\">\n",
       "\n",
       "  <div class=\"colab-df-container\">\n",
       "    <button class=\"colab-df-convert\" onclick=\"convertToInteractive('df-4cdb06a6-02f7-47b5-bd96-05b5267d4cfa')\"\n",
       "            title=\"Convert this dataframe to an interactive table.\"\n",
       "            style=\"display:none;\">\n",
       "\n",
       "  <svg xmlns=\"http://www.w3.org/2000/svg\" height=\"24px\" viewBox=\"0 -960 960 960\">\n",
       "    <path d=\"M120-120v-720h720v720H120Zm60-500h600v-160H180v160Zm220 220h160v-160H400v160Zm0 220h160v-160H400v160ZM180-400h160v-160H180v160Zm440 0h160v-160H620v160ZM180-180h160v-160H180v160Zm440 0h160v-160H620v160Z\"/>\n",
       "  </svg>\n",
       "    </button>\n",
       "\n",
       "  <style>\n",
       "    .colab-df-container {\n",
       "      display:flex;\n",
       "      gap: 12px;\n",
       "    }\n",
       "\n",
       "    .colab-df-convert {\n",
       "      background-color: #E8F0FE;\n",
       "      border: none;\n",
       "      border-radius: 50%;\n",
       "      cursor: pointer;\n",
       "      display: none;\n",
       "      fill: #1967D2;\n",
       "      height: 32px;\n",
       "      padding: 0 0 0 0;\n",
       "      width: 32px;\n",
       "    }\n",
       "\n",
       "    .colab-df-convert:hover {\n",
       "      background-color: #E2EBFA;\n",
       "      box-shadow: 0px 1px 2px rgba(60, 64, 67, 0.3), 0px 1px 3px 1px rgba(60, 64, 67, 0.15);\n",
       "      fill: #174EA6;\n",
       "    }\n",
       "\n",
       "    .colab-df-buttons div {\n",
       "      margin-bottom: 4px;\n",
       "    }\n",
       "\n",
       "    [theme=dark] .colab-df-convert {\n",
       "      background-color: #3B4455;\n",
       "      fill: #D2E3FC;\n",
       "    }\n",
       "\n",
       "    [theme=dark] .colab-df-convert:hover {\n",
       "      background-color: #434B5C;\n",
       "      box-shadow: 0px 1px 3px 1px rgba(0, 0, 0, 0.15);\n",
       "      filter: drop-shadow(0px 1px 2px rgba(0, 0, 0, 0.3));\n",
       "      fill: #FFFFFF;\n",
       "    }\n",
       "  </style>\n",
       "\n",
       "    <script>\n",
       "      const buttonEl =\n",
       "        document.querySelector('#df-4cdb06a6-02f7-47b5-bd96-05b5267d4cfa button.colab-df-convert');\n",
       "      buttonEl.style.display =\n",
       "        google.colab.kernel.accessAllowed ? 'block' : 'none';\n",
       "\n",
       "      async function convertToInteractive(key) {\n",
       "        const element = document.querySelector('#df-4cdb06a6-02f7-47b5-bd96-05b5267d4cfa');\n",
       "        const dataTable =\n",
       "          await google.colab.kernel.invokeFunction('convertToInteractive',\n",
       "                                                    [key], {});\n",
       "        if (!dataTable) return;\n",
       "\n",
       "        const docLinkHtml = 'Like what you see? Visit the ' +\n",
       "          '<a target=\"_blank\" href=https://colab.research.google.com/notebooks/data_table.ipynb>data table notebook</a>'\n",
       "          + ' to learn more about interactive tables.';\n",
       "        element.innerHTML = '';\n",
       "        dataTable['output_type'] = 'display_data';\n",
       "        await google.colab.output.renderOutput(dataTable, element);\n",
       "        const docLink = document.createElement('div');\n",
       "        docLink.innerHTML = docLinkHtml;\n",
       "        element.appendChild(docLink);\n",
       "      }\n",
       "    </script>\n",
       "  </div>\n",
       "\n",
       "\n",
       "<div id=\"df-abcb9de1-4fa9-43c5-8bbd-e274c4561a86\">\n",
       "  <button class=\"colab-df-quickchart\" onclick=\"quickchart('df-abcb9de1-4fa9-43c5-8bbd-e274c4561a86')\"\n",
       "            title=\"Suggest charts\"\n",
       "            style=\"display:none;\">\n",
       "\n",
       "<svg xmlns=\"http://www.w3.org/2000/svg\" height=\"24px\"viewBox=\"0 0 24 24\"\n",
       "     width=\"24px\">\n",
       "    <g>\n",
       "        <path d=\"M19 3H5c-1.1 0-2 .9-2 2v14c0 1.1.9 2 2 2h14c1.1 0 2-.9 2-2V5c0-1.1-.9-2-2-2zM9 17H7v-7h2v7zm4 0h-2V7h2v10zm4 0h-2v-4h2v4z\"/>\n",
       "    </g>\n",
       "</svg>\n",
       "  </button>\n",
       "\n",
       "<style>\n",
       "  .colab-df-quickchart {\n",
       "      --bg-color: #E8F0FE;\n",
       "      --fill-color: #1967D2;\n",
       "      --hover-bg-color: #E2EBFA;\n",
       "      --hover-fill-color: #174EA6;\n",
       "      --disabled-fill-color: #AAA;\n",
       "      --disabled-bg-color: #DDD;\n",
       "  }\n",
       "\n",
       "  [theme=dark] .colab-df-quickchart {\n",
       "      --bg-color: #3B4455;\n",
       "      --fill-color: #D2E3FC;\n",
       "      --hover-bg-color: #434B5C;\n",
       "      --hover-fill-color: #FFFFFF;\n",
       "      --disabled-bg-color: #3B4455;\n",
       "      --disabled-fill-color: #666;\n",
       "  }\n",
       "\n",
       "  .colab-df-quickchart {\n",
       "    background-color: var(--bg-color);\n",
       "    border: none;\n",
       "    border-radius: 50%;\n",
       "    cursor: pointer;\n",
       "    display: none;\n",
       "    fill: var(--fill-color);\n",
       "    height: 32px;\n",
       "    padding: 0;\n",
       "    width: 32px;\n",
       "  }\n",
       "\n",
       "  .colab-df-quickchart:hover {\n",
       "    background-color: var(--hover-bg-color);\n",
       "    box-shadow: 0 1px 2px rgba(60, 64, 67, 0.3), 0 1px 3px 1px rgba(60, 64, 67, 0.15);\n",
       "    fill: var(--button-hover-fill-color);\n",
       "  }\n",
       "\n",
       "  .colab-df-quickchart-complete:disabled,\n",
       "  .colab-df-quickchart-complete:disabled:hover {\n",
       "    background-color: var(--disabled-bg-color);\n",
       "    fill: var(--disabled-fill-color);\n",
       "    box-shadow: none;\n",
       "  }\n",
       "\n",
       "  .colab-df-spinner {\n",
       "    border: 2px solid var(--fill-color);\n",
       "    border-color: transparent;\n",
       "    border-bottom-color: var(--fill-color);\n",
       "    animation:\n",
       "      spin 1s steps(1) infinite;\n",
       "  }\n",
       "\n",
       "  @keyframes spin {\n",
       "    0% {\n",
       "      border-color: transparent;\n",
       "      border-bottom-color: var(--fill-color);\n",
       "      border-left-color: var(--fill-color);\n",
       "    }\n",
       "    20% {\n",
       "      border-color: transparent;\n",
       "      border-left-color: var(--fill-color);\n",
       "      border-top-color: var(--fill-color);\n",
       "    }\n",
       "    30% {\n",
       "      border-color: transparent;\n",
       "      border-left-color: var(--fill-color);\n",
       "      border-top-color: var(--fill-color);\n",
       "      border-right-color: var(--fill-color);\n",
       "    }\n",
       "    40% {\n",
       "      border-color: transparent;\n",
       "      border-right-color: var(--fill-color);\n",
       "      border-top-color: var(--fill-color);\n",
       "    }\n",
       "    60% {\n",
       "      border-color: transparent;\n",
       "      border-right-color: var(--fill-color);\n",
       "    }\n",
       "    80% {\n",
       "      border-color: transparent;\n",
       "      border-right-color: var(--fill-color);\n",
       "      border-bottom-color: var(--fill-color);\n",
       "    }\n",
       "    90% {\n",
       "      border-color: transparent;\n",
       "      border-bottom-color: var(--fill-color);\n",
       "    }\n",
       "  }\n",
       "</style>\n",
       "\n",
       "  <script>\n",
       "    async function quickchart(key) {\n",
       "      const quickchartButtonEl =\n",
       "        document.querySelector('#' + key + ' button');\n",
       "      quickchartButtonEl.disabled = true;  // To prevent multiple clicks.\n",
       "      quickchartButtonEl.classList.add('colab-df-spinner');\n",
       "      try {\n",
       "        const charts = await google.colab.kernel.invokeFunction(\n",
       "            'suggestCharts', [key], {});\n",
       "      } catch (error) {\n",
       "        console.error('Error during call to suggestCharts:', error);\n",
       "      }\n",
       "      quickchartButtonEl.classList.remove('colab-df-spinner');\n",
       "      quickchartButtonEl.classList.add('colab-df-quickchart-complete');\n",
       "    }\n",
       "    (() => {\n",
       "      let quickchartButtonEl =\n",
       "        document.querySelector('#df-abcb9de1-4fa9-43c5-8bbd-e274c4561a86 button');\n",
       "      quickchartButtonEl.style.display =\n",
       "        google.colab.kernel.accessAllowed ? 'block' : 'none';\n",
       "    })();\n",
       "  </script>\n",
       "</div>\n",
       "    </div>\n",
       "  </div>\n"
      ],
      "application/vnd.google.colaboratory.intrinsic+json": {
       "type": "dataframe",
       "variable_name": "df_stats",
       "summary": "{\n  \"name\": \"df_stats\",\n  \"rows\": 4,\n  \"fields\": [\n    {\n      \"column\": \"epoch\",\n      \"properties\": {\n        \"dtype\": \"number\",\n        \"std\": 1,\n        \"min\": 1,\n        \"max\": 4,\n        \"num_unique_values\": 4,\n        \"samples\": [\n          2,\n          4,\n          1\n        ],\n        \"semantic_type\": \"\",\n        \"description\": \"\"\n      }\n    },\n    {\n      \"column\": \"Training Loss\",\n      \"properties\": {\n        \"dtype\": \"number\",\n        \"std\": 0.1557092755503018,\n        \"min\": 0.13900897780369068,\n        \"max\": 0.48855430093304864,\n        \"num_unique_values\": 4,\n        \"samples\": [\n          0.2801727796423024,\n          0.13900897780369068,\n          0.48855430093304864\n        ],\n        \"semantic_type\": \"\",\n        \"description\": \"\"\n      }\n    },\n    {\n      \"column\": \"Valid. Loss\",\n      \"properties\": {\n        \"dtype\": \"number\",\n        \"std\": 0.07271373051802899,\n        \"min\": 0.30555006116628647,\n        \"max\": 0.4680044651031494,\n        \"num_unique_values\": 4,\n        \"samples\": [\n          0.3621862679719925,\n          0.30555006116628647,\n          0.4680044651031494\n        ],\n        \"semantic_type\": \"\",\n        \"description\": \"\"\n      }\n    },\n    {\n      \"column\": \"Valid. Accur.\",\n      \"properties\": {\n        \"dtype\": \"number\",\n        \"std\": 0.05031244513214325,\n        \"min\": 0.8009207589285714,\n        \"max\": 0.9117373511904762,\n        \"num_unique_values\": 4,\n        \"samples\": [\n          0.8744419642857143,\n          0.9117373511904762,\n          0.8009207589285714\n        ],\n        \"semantic_type\": \"\",\n        \"description\": \"\"\n      }\n    },\n    {\n      \"column\": \"Training Time\",\n      \"properties\": {\n        \"dtype\": \"object\",\n        \"num_unique_values\": 2,\n        \"samples\": [\n          \"0:00:14\",\n          \"0:00:16\"\n        ],\n        \"semantic_type\": \"\",\n        \"description\": \"\"\n      }\n    },\n    {\n      \"column\": \"Validation Time\",\n      \"properties\": {\n        \"dtype\": \"object\",\n        \"num_unique_values\": 1,\n        \"samples\": [\n          \"0:00:01\"\n        ],\n        \"semantic_type\": \"\",\n        \"description\": \"\"\n      }\n    }\n  ]\n}"
      }
     },
     "metadata": {},
     "execution_count": 23
    }
   ],
   "source": [
    "import pandas as pd\n",
    "\n",
    "# Display floats with two decimal places.\n",
    "pd.set_option('display.precision', 2)\n",
    "\n",
    "# Create a DataFrame fom our training statistics.\n",
    "df_stats = pd.DataFrame(data=training_stats)\n",
    "\n",
    "# Use the 'epoch' as the row index.\n",
    "df_stats = df_stats.set_index('epoch')\n",
    "\n",
    "# Display the table.\n",
    "df_stats"
   ]
  },
  {
   "cell_type": "markdown",
   "metadata": {
    "id": "ju4dGm5aL6Gm"
   },
   "source": [
    "As the training loss decreases, we can observe that the validation loss increases -> this suggests that we are over training our model -> or that it is overfitting the data.\n",
    "\n",
    "**validation loss** is a more percise measure thatn accuracy because with accuracy we don't care about the exact output value.\n",
    "\n",
    "If we are predicting the correct answer, but with less confidence, then validation loss will catch this, while accuracy will not."
   ]
  },
  {
   "cell_type": "code",
   "execution_count": null,
   "metadata": {
    "id": "2PWT3qP_MuA-",
    "outputId": "f49274c2-508a-4cd5-c49b-6846beb4833c",
    "colab": {
     "base_uri": "https://localhost:8080/"
    },
    "executionInfo": {
     "status": "ok",
     "timestamp": 1716396833932,
     "user_tz": -120,
     "elapsed": 4628,
     "user": {
      "displayName": "Manny Sean",
      "userId": "01202240053696434040"
     }
    }
   },
   "outputs": [
    {
     "output_type": "stream",
     "name": "stdout",
     "text": [
      "Requirement already satisfied: seaborn in /usr/local/lib/python3.10/dist-packages (0.13.1)\n",
      "Requirement already satisfied: numpy!=1.24.0,>=1.20 in /usr/local/lib/python3.10/dist-packages (from seaborn) (1.25.2)\n",
      "Requirement already satisfied: pandas>=1.2 in /usr/local/lib/python3.10/dist-packages (from seaborn) (2.0.3)\n",
      "Requirement already satisfied: matplotlib!=3.6.1,>=3.4 in /usr/local/lib/python3.10/dist-packages (from seaborn) (3.7.1)\n",
      "Requirement already satisfied: contourpy>=1.0.1 in /usr/local/lib/python3.10/dist-packages (from matplotlib!=3.6.1,>=3.4->seaborn) (1.2.1)\n",
      "Requirement already satisfied: cycler>=0.10 in /usr/local/lib/python3.10/dist-packages (from matplotlib!=3.6.1,>=3.4->seaborn) (0.12.1)\n",
      "Requirement already satisfied: fonttools>=4.22.0 in /usr/local/lib/python3.10/dist-packages (from matplotlib!=3.6.1,>=3.4->seaborn) (4.51.0)\n",
      "Requirement already satisfied: kiwisolver>=1.0.1 in /usr/local/lib/python3.10/dist-packages (from matplotlib!=3.6.1,>=3.4->seaborn) (1.4.5)\n",
      "Requirement already satisfied: packaging>=20.0 in /usr/local/lib/python3.10/dist-packages (from matplotlib!=3.6.1,>=3.4->seaborn) (24.0)\n",
      "Requirement already satisfied: pillow>=6.2.0 in /usr/local/lib/python3.10/dist-packages (from matplotlib!=3.6.1,>=3.4->seaborn) (9.4.0)\n",
      "Requirement already satisfied: pyparsing>=2.3.1 in /usr/local/lib/python3.10/dist-packages (from matplotlib!=3.6.1,>=3.4->seaborn) (3.1.2)\n",
      "Requirement already satisfied: python-dateutil>=2.7 in /usr/local/lib/python3.10/dist-packages (from matplotlib!=3.6.1,>=3.4->seaborn) (2.8.2)\n",
      "Requirement already satisfied: pytz>=2020.1 in /usr/local/lib/python3.10/dist-packages (from pandas>=1.2->seaborn) (2023.4)\n",
      "Requirement already satisfied: tzdata>=2022.1 in /usr/local/lib/python3.10/dist-packages (from pandas>=1.2->seaborn) (2024.1)\n",
      "Requirement already satisfied: six>=1.5 in /usr/local/lib/python3.10/dist-packages (from python-dateutil>=2.7->matplotlib!=3.6.1,>=3.4->seaborn) (1.16.0)\n"
     ]
    }
   ],
   "source": [
    "!pip install seaborn"
   ]
  },
  {
   "cell_type": "code",
   "execution_count": null,
   "metadata": {
    "colab": {
     "base_uri": "https://localhost:8080/",
     "height": 592
    },
    "executionInfo": {
     "elapsed": 1067,
     "status": "ok",
     "timestamp": 1716396834994,
     "user": {
      "displayName": "Manny Sean",
      "userId": "01202240053696434040"
     },
     "user_tz": -120
    },
    "id": "wMjjxBG2Mh0W",
    "outputId": "a83b982e-36cd-48b4-bf9c-c20deb633571"
   },
   "outputs": [
    {
     "output_type": "display_data",
     "data": {
      "text/plain": [
       "<Figure size 1200x600 with 1 Axes>"
      ],
      "image/png": "[encoded data removed]"
     },
     "metadata": {}
    }
   ],
   "source": [
    "import matplotlib.pyplot as plt\n",
    "%matplotlib inline\n",
    "\n",
    "import seaborn as sns\n",
    "\n",
    "# Use plot styling from seaborn.\n",
    "sns.set(style='darkgrid')\n",
    "\n",
    "# Increase the plot size and font size\n",
    "sns.set(font_scale=1.5)\n",
    "plt.rcParams[\"figure.figsize\"] = (12, 6)\n",
    "\n",
    "# Plot the learning curve.\n",
    "plt.plot(df_stats['Training Loss'], 'b-o', label='Training')\n",
    "plt.plot(df_stats['Valid. Loss'], 'g-o', label='Validation')\n",
    "\n",
    "# Label the plot\n",
    "plt.title(\"Training & Validation Loss\")\n",
    "plt.xlabel(\"Epoch\")\n",
    "plt.ylabel(\"Loss\")\n",
    "plt.legend()\n",
    "plt.xticks([1, 2, 3, 4])\n",
    "\n",
    "plt.show()"
   ]
  },
  {
   "cell_type": "markdown",
   "metadata": {
    "id": "EtSm-Xe6Nssq"
   },
   "source": [
    "# **5. Performance on Test Set**\n",
    "\n",
    "Using Matthew's Correlation Coefficient we'll evaluate the predictions:\n",
    "\n",
    "https://scikit-learn.org/stable/modules/generated/sklearn.metrics.matthews_corrcoef.html\n",
    "\n",
    "We'll prepare the holdout dataset just like we did with the training data - The metric scored span from -1 to 1, and will give us an idea of how well we perform compared to the state of the art models"
   ]
  },
  {
   "cell_type": "markdown",
   "metadata": {
    "id": "AwDlTN4DSvMl"
   },
   "source": [
    "## **5.1. Data Perparation**\n",
    "\n",
    "We'll need to apply all of the same steps we did for the training dataset:"
   ]
  },
  {
   "cell_type": "code",
   "execution_count": null,
   "metadata": {
    "id": "q6hXNrwxMuA_",
    "outputId": "0669bd3d-9fae-499a-da1b-39da30a7b6da",
    "colab": {
     "base_uri": "https://localhost:8080/"
    },
    "executionInfo": {
     "status": "ok",
     "timestamp": 1716397349301,
     "user_tz": -120,
     "elapsed": 517,
     "user": {
      "displayName": "Manny Sean",
      "userId": "01202240053696434040"
     }
    }
   },
   "outputs": [
    {
     "output_type": "stream",
     "name": "stdout",
     "text": [
      "Number of test sentences: 8,100\n"
     ]
    }
   ],
   "source": [
    "import pandas as pd\n",
    "\n",
    "# Load the dataset into a Pandas dataframe. This is where the data from the second/ Third language comes.\n",
    "#df = pd.read_csv(\"/content/drive/MyDrive/data/english/englishData.csv\",  keep_default_na=False, sep = \";\")\n",
    "df = pd.read_csv(\"/content/drive/MyDrive/data/english/englishData.csv\",on_bad_lines='skip', encoding='ISO-8859-1')\n",
    "# Report the number of sentences.\n",
    "print('Number of test sentences: {:,}\\n'.format(df.shape[0]))\n"
   ]
  },
  {
   "cell_type": "code",
   "source": [
    "df.columns"
   ],
   "metadata": {
    "colab": {
     "base_uri": "https://localhost:8080/"
    },
    "id": "PyJCGQb-PspY",
    "executionInfo": {
     "status": "ok",
     "timestamp": 1716397351502,
     "user_tz": -120,
     "elapsed": 580,
     "user": {
      "displayName": "Manny Sean",
      "userId": "01202240053696434040"
     }
    },
    "outputId": "ad133889-2c3d-4e0a-cd3e-bdd1488935be"
   },
   "execution_count": null,
   "outputs": [
    {
     "output_type": "execute_result",
     "data": {
      "text/plain": [
       "Index(['ORDER', 'CODE', 'STRUCTURE', 'ITEM', 'TARGET', 'RESPONSE',\n",
       "       'Error_Types', 'AUTO_SCORING', 'CELF_SCORING', 'TOLD_SCORING',\n",
       "       'GRAMMATICAL', 'STRUCTURE_SCORE', 'GENDER', 'AGE', 'AGE_of_ONSET_EN',\n",
       "       'AGE_of_ONSET_other', 'AoO_bi', 'ENGL_STATUS', 'OTHER_LANG',\n",
       "       'TOTAL_TOLD', 'TOTDAL_CELF', 'TOTAL_STRUCTURE', 'TOTAL_CELF',\n",
       "       'SUBGROUP', 'MLC_CELF', 'MLC_TOLD'],\n",
       "      dtype='object')"
      ]
     },
     "metadata": {},
     "execution_count": 47
    }
   ]
  },
  {
   "cell_type": "code",
   "execution_count": null,
   "metadata": {
    "id": "Yo4J0_C4TA9i"
   },
   "outputs": [],
   "source": [
    "# Create sentence and label lists\n",
    "responses = df.RESPONSE.values\n",
    "scores = df.TOLD_SCORING.values"
   ]
  },
  {
   "cell_type": "code",
   "execution_count": null,
   "metadata": {
    "id": "K-MzWLS4MuBA",
    "executionInfo": {
     "status": "ok",
     "timestamp": 1716397360586,
     "user_tz": -120,
     "elapsed": 3201,
     "user": {
      "displayName": "Manny Sean",
      "userId": "01202240053696434040"
     }
    },
    "colab": {
     "base_uri": "https://localhost:8080/"
    },
    "outputId": "1110fb84-2dec-47ae-f80a-0358b652bf5f"
   },
   "outputs": [
    {
     "output_type": "stream",
     "name": "stderr",
     "text": [
      "/usr/local/lib/python3.10/dist-packages/transformers/tokenization_utils_base.py:2699: FutureWarning: The `pad_to_max_length` argument is deprecated and will be removed in a future version, use `padding=True` or `padding='longest'` to pad to the longest sequence in the batch, or use `padding='max_length'` to pad to a max length. In this case, you can give a specific length with `max_length` (e.g. `max_length=45`) or leave max_length to None to pad to the maximal input size of the model (e.g. 512 for Bert).\n",
      "  warnings.warn(\n"
     ]
    }
   ],
   "source": [
    "# Tokenize all of the sentences and map the tokens to their word IDs\n",
    "input_ids = []\n",
    "attention_masks = []\n",
    "\n",
    "# For every sentence...\n",
    "for reponse in responses:\n",
    "  # Encode_plus will...\n",
    "  # 1) Tokenize the sentence\n",
    "  # 2) Prepend the '[CLS]' token to the start.\n",
    "  # 3) Append the '[SEP]' token to the send.\n",
    "  # 4) Map the tokens ti their IDs.\n",
    "  # 5) Pad or truncate the sentence to 'max_length'\n",
    "  # 6) Create attention masks for [PAD] tokens.\n",
    "  encoded_dict = tokenizer.encode_plus(\n",
    "      reponse,                           # Sentence to encode.\n",
    "      add_special_tokens = True,      # Add '[CLS]' and '[SEP]'\n",
    "      max_length = 44,                # Pad & truncate all sentences.\n",
    "      pad_to_max_length = True,\n",
    "      return_attention_mask = True,   # Construct attn. masks.\n",
    "      return_tensors = 'pt',          # Return pytorch tensors.\n",
    "  )\n",
    "\n",
    "  # Add the encoded sentence to the list.\n",
    "  input_ids.append(encoded_dict['input_ids'])\n",
    "\n",
    "  # Attention_masks differentiate relevant information from padding\n",
    "  attention_masks.append(encoded_dict['attention_mask'])\n",
    "\n",
    "# Convert the lists into tensors.\n",
    "input_ids = torch.cat(input_ids, dim=0)\n",
    "attention_masks = torch.cat(attention_masks, dim=0)\n",
    "scores = torch.tensor(scores)\n",
    "\n",
    "# Set the batch size\n",
    "batch_size = 256\n",
    "\n",
    "# Create the DataLoader.\n",
    "prediction_data = TensorDataset(input_ids, attention_masks, scores)\n",
    "prediction_sampler = SequentialSampler(prediction_data)\n",
    "prediction_dataloader = DataLoader(prediction_data, sampler=prediction_sampler, batch_size=batch_size)"
   ]
  },
  {
   "cell_type": "markdown",
   "metadata": {
    "id": "NtFoMmowTAKw"
   },
   "source": [
    "## **5.2. Evaluat the Test Set**\n",
    "\n",
    "Next we can have out model generate predictions on the Test Set (the already fine-tuned model)"
   ]
  },
  {
   "cell_type": "code",
   "execution_count": null,
   "metadata": {
    "colab": {
     "base_uri": "https://localhost:8080/"
    },
    "executionInfo": {
     "elapsed": 5246,
     "status": "ok",
     "timestamp": 1716397366831,
     "user": {
      "displayName": "Manny Sean",
      "userId": "01202240053696434040"
     },
     "user_tz": -120
    },
    "id": "8_sqGqekWDtl",
    "outputId": "213fa686-25ad-41e5-9d46-bb35cd3f419d"
   },
   "outputs": [
    {
     "output_type": "stream",
     "name": "stdout",
     "text": [
      "Predicting labels for 8,100 test sentences...\n",
      "    DONE.\n"
     ]
    }
   ],
   "source": [
    "# Predicitons on the Test Set\n",
    "print('Predicting labels for {:,} test sentences...'.format(len(input_ids)))\n",
    "\n",
    "# Put model in evaluation mode\n",
    "model.eval()\n",
    "\n",
    "# Tracking variables\n",
    "predictions, true_scores = [], []\n",
    "\n",
    "# Predict\n",
    "for batch in prediction_dataloader:\n",
    "  # Add batch to GPU\n",
    "  batch = tuple(t.to(device) for t in batch)\n",
    "\n",
    "  # Unpack the inputs from our dataloader\n",
    "  b_input_ids, b_input_mask, b_scores = batch\n",
    "\n",
    "  # Telling the model not to compute or store gradients, saving memory and\n",
    "  # speeding up prediction\n",
    "  with torch.no_grad():\n",
    "    # Forward pass, calculate logit predictions\n",
    "    outputs = model(b_input_ids,\n",
    "                    token_type_ids=None,\n",
    "                    attention_mask=b_input_mask\n",
    "                    )\n",
    "\n",
    "  logits = outputs[0]\n",
    "\n",
    "  # Move logits and labels to CPU\n",
    "  logits = logits.detach().cpu().numpy()\n",
    "  score_ids = b_scores.to('cpu').numpy()\n",
    "\n",
    "  #remove nan from score_ids\n",
    "  #score_ids = score_ids[~np.isnan(score_ids)]\n",
    "\n",
    "  # Store predictions and true labels\n",
    "  predictions.append(logits)\n",
    "  true_scores.append(score_ids)\n",
    "\n",
    "print('    DONE.')"
   ]
  },
  {
   "cell_type": "markdown",
   "metadata": {
    "id": "JkRE2dvgX0yK"
   },
   "source": [
    "## Matthew's Correlation Coefficient (MCC)\n",
    "We'll use MCC here because the classed are imbalanced"
   ]
  },
  {
   "cell_type": "code",
   "execution_count": null,
   "metadata": {
    "colab": {
     "base_uri": "https://localhost:8080/"
    },
    "executionInfo": {
     "elapsed": 16,
     "status": "ok",
     "timestamp": 1716397366832,
     "user": {
      "displayName": "Manny Sean",
      "userId": "01202240053696434040"
     },
     "user_tz": -120
    },
    "id": "JTQTr6B8YELC",
    "outputId": "ca274031-6342-42d3-f685-bff87bd25578"
   },
   "outputs": [
    {
     "output_type": "stream",
     "name": "stdout",
     "text": [
      "Positive samples: 5182 of 8100 (63.98%)\n"
     ]
    }
   ],
   "source": [
    "print('Positive samples: %d of %d (%.2f%%)' % (df.TOLD_SCORING.sum(), len(df.TOLD_SCORING), (df.TOLD_SCORING.sum() / len(df.TOLD_SCORING)* 100.0)))"
   ]
  },
  {
   "cell_type": "code",
   "execution_count": null,
   "metadata": {
    "colab": {
     "base_uri": "https://localhost:8080/"
    },
    "executionInfo": {
     "elapsed": 519,
     "status": "ok",
     "timestamp": 1716397368964,
     "user": {
      "displayName": "Manny Sean",
      "userId": "01202240053696434040"
     },
     "user_tz": -120
    },
    "id": "dmf0TiptYeIa",
    "outputId": "e011c91d-b00a-47c1-dff3-132b85e756b4"
   },
   "outputs": [
    {
     "output_type": "stream",
     "name": "stdout",
     "text": [
      "Calculating MCC for each batch...\n",
      "DONE\n"
     ]
    }
   ],
   "source": [
    "from sklearn.metrics import matthews_corrcoef\n",
    "\n",
    "matthews_set = []\n",
    "\n",
    "# Evaluate each test batch using Matthew's correlation coefficient\n",
    "print('Calculating MCC for each batch...')\n",
    "\n",
    "# For each batch...\n",
    "for i in range(len(true_scores)):\n",
    "    # The predictions for this batch are a 2-column ndarray (one column for \"0\"\n",
    "    # and one column for \"1\"). Pick the label with the highest value and turn this\n",
    "    # in to a list of 0s and 1s.\n",
    "    pred_scores_i = np.argmax(predictions[i], axis=1).flatten()\n",
    "\n",
    "    # Calculate and store the coef for this batch.\n",
    "    #if true_scores[i] != \"nan\"\n",
    "\n",
    "\n",
    "\n",
    "    matthews = matthews_corrcoef(true_scores[i], pred_scores_i)\n",
    "    matthews_set.append(matthews)\n",
    "\n",
    "    matt_mean =  sum(matthews_set) / len(matthews_set)\n",
    "\n",
    "print('DONE')\n"
   ]
  },
  {
   "cell_type": "markdown",
   "metadata": {
    "id": "59964BrRbDJw"
   },
   "source": [
    "## Final Score\n",
    "\n",
    "The final score will be based on the entire test set.\n",
    "\n",
    "If each batch has 16 sentences in it except for the last batch which has (total%16)= x"
   ]
  },
  {
   "cell_type": "code",
   "execution_count": null,
   "metadata": {
    "colab": {
     "base_uri": "https://localhost:8080/"
    },
    "executionInfo": {
     "elapsed": 371,
     "status": "ok",
     "timestamp": 1716397372549,
     "user": {
      "displayName": "Manny Sean",
      "userId": "01202240053696434040"
     },
     "user_tz": -120
    },
    "id": "5V2ISP8Gcbbc",
    "outputId": "9d53c45b-cc99-4f1f-8131-79aee1b00cf2"
   },
   "outputs": [
    {
     "output_type": "stream",
     "name": "stdout",
     "text": [
      "Total MCC: 0.841\n"
     ]
    }
   ],
   "source": [
    "\n",
    "# Combine all results across all batches\n",
    "flat_predictions = np.concatenate(predictions, axis = 0)\n",
    "\n",
    "# For each sample, pick the label (0 or 1) with the higher score,\n",
    "flat_predictions = np.argmax(flat_predictions, axis = 1).flatten()\n",
    "\n",
    "# Combine the correct labels for each batch into a single list.\n",
    "flat_true_scores = np.concatenate(true_scores, axis = 0)\n",
    "\n",
    "# Calculate the MCC\n",
    "mcc = matthews_corrcoef(flat_true_scores, flat_predictions)\n",
    "\n",
    "\n",
    "print('Total MCC: %.3f' % mcc)\n"
   ]
  },
  {
   "cell_type": "code",
   "execution_count": null,
   "metadata": {
    "id": "iyYwUKKlbANS",
    "colab": {
     "base_uri": "https://localhost:8080/",
     "height": 662
    },
    "executionInfo": {
     "status": "ok",
     "timestamp": 1716397376636,
     "user_tz": -120,
     "elapsed": 612,
     "user": {
      "displayName": "Manny Sean",
      "userId": "01202240053696434040"
     }
    },
    "outputId": "cb101ce2-1c37-4b75-dc54-597dd48fe11c"
   },
   "outputs": [
    {
     "output_type": "stream",
     "name": "stderr",
     "text": [
      "<ipython-input-54-0ebcb4c37e6f>:2: FutureWarning: \n",
      "\n",
      "Passing `palette` without assigning `hue` is deprecated and will be removed in v0.14.0. Assign the `x` variable to `hue` and set `legend=False` for the same effect.\n",
      "\n",
      "  ax = sns.barplot(x=list(range(len(matthews_set))), y=matthews_set,\n"
     ]
    },
    {
     "output_type": "display_data",
     "data": {
      "text/plain": [
       "<Figure size 1200x600 with 1 Axes>"
      ],
      "image/png": "[encoded data removed]"
     },
     "metadata": {}
    }
   ],
   "source": [
    "# Creat a barplot of the batches' MCC scores\n",
    "ax = sns.barplot(x=list(range(len(matthews_set))), y=matthews_set,\n",
    "                 palette=\"bone_r\", legend=False)\n",
    "\n",
    "sns.set(color_codes=True)\n",
    "\n",
    "ax.hlines(mcc, *ax.get_xlim())\n",
    "ax.annotate(f'MCC:\\n {mcc:.3f}', xy=(ax.get_xlim()[1],mcc))\n",
    "\n",
    "plt.title('MCC Score per Batch')\n",
    "plt.ylabel('MCC Score (-1 to +1)')\n",
    "plt.xlabel('Batch #')\n",
    "\n",
    "\n",
    "\n",
    "plt.show()"
   ]
  },
  {
   "cell_type": "markdown",
   "metadata": {
    "id": "zfImHfRCcTox"
   },
   "source": [
    "Next we can combine all the results and calculate the final MCC score."
   ]
  },
  {
   "cell_type": "markdown",
   "metadata": {
    "id": "zoG-T_ome-LA"
   },
   "source": [
    "# **6. Saving the pre-trained Model**\n",
    "\n"
   ]
  },
  {
   "cell_type": "code",
   "execution_count": null,
   "metadata": {
    "id": "dzXFDADofGiE",
    "outputId": "24c6d815-4df7-4526-f9bb-99f0e6ec9896",
    "colab": {
     "base_uri": "https://localhost:8080/"
    },
    "executionInfo": {
     "status": "ok",
     "timestamp": 1716397397690,
     "user_tz": -120,
     "elapsed": 11522,
     "user": {
      "displayName": "Manny Sean",
      "userId": "01202240053696434040"
     }
    }
   },
   "outputs": [
    {
     "output_type": "stream",
     "name": "stdout",
     "text": [
      "Please enter the output directory: Binary_ENG\n",
      "Saving model to Binary_ENG\n",
      "<class 'transformers.models.bert.modeling_bert.BertForSequenceClassification'>\n"
     ]
    },
    {
     "output_type": "execute_result",
     "data": {
      "text/plain": [
       "('Binary_ENG/tokenizer_config.json',\n",
       " 'Binary_ENG/special_tokens_map.json',\n",
       " 'Binary_ENG/vocab.txt',\n",
       " 'Binary_ENG/added_tokens.json')"
      ]
     },
     "metadata": {},
     "execution_count": 55
    }
   ],
   "source": [
    "import os\n",
    "\n",
    "# Saving best-practices: if you use defaults names for the model, you can reload it using from_pretrained()\n",
    "\n",
    "output_dir = input(\"Please enter the output directory: \")\n",
    "\n",
    "# Create output directory if needed\n",
    "if not os.path.exists(output_dir):\n",
    "    os.makedirs(output_dir)\n",
    "\n",
    "print(\"Saving model to %s\" % output_dir)\n",
    "\n",
    "# Save a trained model, configuration and tokenizer using `save_pretrained()`.\n",
    "# They can then be reloaded using `from_pretrained()`\n",
    "model_to_save = model.module if hasattr(model, 'module') else model  # Take care of distributed/parallel training\n",
    "model_to_save.save_pretrained(output_dir)\n",
    "print(type(model_to_save))\n",
    "tokenizer.save_pretrained(output_dir)\n",
    "\n",
    "# Good practice: save your training arguments together with the trained model\n",
    "# torch.save(args, os.path.join(output_dir, 'training_args.bin'))\n"
   ]
  },
  {
   "cell_type": "markdown",
   "metadata": {
    "id": "PM9fiL6NfJLH"
   },
   "source": [
    "## **6.1 Saving the Model in Google Drive**\n",
    "Idealy copy the model to Google Drive"
   ]
  },
  {
   "cell_type": "code",
   "execution_count": null,
   "metadata": {
    "id": "Z7qPAh5qfgHl",
    "colab": {
     "base_uri": "https://localhost:8080/",
     "height": 35
    },
    "executionInfo": {
     "status": "ok",
     "timestamp": 1705321289793,
     "user_tz": -60,
     "elapsed": 5,
     "user": {
      "displayName": "Manny Sean",
      "userId": "01202240053696434040"
     }
    },
    "outputId": "6de77def-efbc-4eee-c6b0-141f6879fbcb"
   },
   "outputs": [
    {
     "output_type": "execute_result",
     "data": {
      "text/plain": [
       "'# Copy the model files to a directory in MultiLingBERT.\\n!cp -r ./model_save/ \"./Native2_modelSave\"\\n'"
      ],
      "application/vnd.google.colaboratory.intrinsic+json": {
       "type": "string"
      }
     },
     "metadata": {},
     "execution_count": 42
    }
   ],
   "source": [
    "'''# Copy the model files to a directory in MultiLingBERT.\n",
    "!cp -r ./model_save/ \"./Native2_modelSave\"\n",
    "'''"
   ]
  },
  {
   "cell_type": "markdown",
   "metadata": {
    "id": "66jDdVB-f0k6"
   },
   "source": [
    "## **6.2 Load model BACK FROM disk**\n",
    "\n"
   ]
  },
  {
   "cell_type": "code",
   "execution_count": null,
   "metadata": {
    "id": "uYT0tjvkgGr1",
    "colab": {
     "base_uri": "https://localhost:8080/"
    },
    "executionInfo": {
     "status": "ok",
     "timestamp": 1716397405101,
     "user_tz": -120,
     "elapsed": 1019,
     "user": {
      "displayName": "Manny Sean",
      "userId": "01202240053696434040"
     }
    },
    "outputId": "d8d6bfb8-a47a-445f-e741-3be148434981"
   },
   "outputs": [
    {
     "output_type": "execute_result",
     "data": {
      "text/plain": [
       "BertForSequenceClassification(\n",
       "  (bert): BertModel(\n",
       "    (embeddings): BertEmbeddings(\n",
       "      (word_embeddings): Embedding(119547, 768, padding_idx=0)\n",
       "      (position_embeddings): Embedding(512, 768)\n",
       "      (token_type_embeddings): Embedding(2, 768)\n",
       "      (LayerNorm): LayerNorm((768,), eps=1e-12, elementwise_affine=True)\n",
       "      (dropout): Dropout(p=0.1, inplace=False)\n",
       "    )\n",
       "    (encoder): BertEncoder(\n",
       "      (layer): ModuleList(\n",
       "        (0-11): 12 x BertLayer(\n",
       "          (attention): BertAttention(\n",
       "            (self): BertSdpaSelfAttention(\n",
       "              (query): Linear(in_features=768, out_features=768, bias=True)\n",
       "              (key): Linear(in_features=768, out_features=768, bias=True)\n",
       "              (value): Linear(in_features=768, out_features=768, bias=True)\n",
       "              (dropout): Dropout(p=0.1, inplace=False)\n",
       "            )\n",
       "            (output): BertSelfOutput(\n",
       "              (dense): Linear(in_features=768, out_features=768, bias=True)\n",
       "              (LayerNorm): LayerNorm((768,), eps=1e-12, elementwise_affine=True)\n",
       "              (dropout): Dropout(p=0.1, inplace=False)\n",
       "            )\n",
       "          )\n",
       "          (intermediate): BertIntermediate(\n",
       "            (dense): Linear(in_features=768, out_features=3072, bias=True)\n",
       "            (intermediate_act_fn): GELUActivation()\n",
       "          )\n",
       "          (output): BertOutput(\n",
       "            (dense): Linear(in_features=3072, out_features=768, bias=True)\n",
       "            (LayerNorm): LayerNorm((768,), eps=1e-12, elementwise_affine=True)\n",
       "            (dropout): Dropout(p=0.1, inplace=False)\n",
       "          )\n",
       "        )\n",
       "      )\n",
       "    )\n",
       "    (pooler): BertPooler(\n",
       "      (dense): Linear(in_features=768, out_features=768, bias=True)\n",
       "      (activation): Tanh()\n",
       "    )\n",
       "  )\n",
       "  (dropout): Dropout(p=0.1, inplace=False)\n",
       "  (classifier): Linear(in_features=768, out_features=2, bias=True)\n",
       ")"
      ]
     },
     "metadata": {},
     "execution_count": 56
    }
   ],
   "source": [
    "from transformers import AutoModelForSequenceClassification, AutoTokenizer\n",
    "\n",
    "id2label = {0: \"INCORRECT\", 1: \"CORRECT\"}\n",
    "\n",
    "# Load a trained model and vocabulary that you have fine-tuned\n",
    "model = AutoModelForSequenceClassification.from_pretrained(output_dir, num_labels=2, id2label=id2label)\n",
    "\n",
    "#model = model_class.from_pretrained(output_dir)\n",
    "tokenizer = AutoTokenizer.from_pretrained(output_dir)\n",
    "\n",
    "# Copy the model to the GPU.\n",
    "model.to(device)"
   ]
  },
  {
   "cell_type": "code",
   "source": [
    "input_texts = [\n",
    "               \"Who have they seen near the steps?\",\n",
    "               \"He should wash the baby that the child is patting.\",\n",
    "               \"What did they find yesterday in the snow?\",\n",
    "               \"The books...\",\n",
    "               \"The children will if they sleep.\",\n",
    "               \"They are eating the bananas in the dark.\",\n",
    "               \"οι οδηγοί άφησαν τους επιβάτες των λεωφορείων στην επόμενη στάση\",\n",
    "               \"ο χορευτής πήρε την ομπρέλα του και περπάτησε στη δυνατή βροχή\",\n",
    "               \"ο προπονητής δεν να κερδίσει η ομάδα του σήμερα\",\n",
    "               \"η γιαγιά ότι σε αυτά τα μέρη πετούσαν περίεργα πουλιά\",\n",
    "               \"dɔxtær-i kɛ tɔ dust dɑri xɑhærɛ mænɛ\",\n",
    "               \"kudum kɛtɑb rɔ ɛntɛxɑb kærd?\",\n",
    "               \"væqti lɛbæs pushidam mikhoram\",\n",
    "               \"kahli\",\n",
    "               \"Es war eine lange dunkle Nacht.\",\n",
    "               \"È stata una lunga notte buia\",\n",
    "               \"یہ ایک لمبی سیاہ رات تھی\",\n",
    "               \"C'était une longue nuit sombre\",\n",
    "               \"لقد كانت ليلة مظلمة طويلة\",\n",
    "               \"أحب المدرسة\"\n",
    "               ]\n",
    "\n",
    "\n",
    "#greek_texts = [\"οι εφημερίδες γράφουν πολλά για τον ληστή που έπιασε η αστυνομία\",]\n",
    "\n",
    "for text in input_texts:\n",
    "  # Encode the text\n",
    "  input = tokenizer(text, truncation=True, padding=\"max_length\", max_length=28, return_tensors=\"pt\").to(\"cuda\")\n",
    "  with torch.no_grad():\n",
    "    # Call the model to predict under the format of logits of 15 classes\n",
    "    logits = model(**input).logits.cpu().detach().numpy()\n",
    "\n",
    "  predicted_class_id = logits.argmax().item()\n",
    "\n",
    "  prediction = model.config.id2label[predicted_class_id]\n",
    "\n",
    "  print('The sentence: \"',text, '\"  is:', prediction)\n"
   ],
   "metadata": {
    "colab": {
     "base_uri": "https://localhost:8080/"
    },
    "id": "mR6c4suTtW7G",
    "executionInfo": {
     "status": "ok",
     "timestamp": 1716397409099,
     "user_tz": -120,
     "elapsed": 307,
     "user": {
      "displayName": "Manny Sean",
      "userId": "01202240053696434040"
     }
    },
    "outputId": "cd4472ab-a6e1-4bf4-d2f2-61604050868b"
   },
   "execution_count": null,
   "outputs": [
    {
     "output_type": "stream",
     "name": "stdout",
     "text": [
      "The sentence: \" Who have they seen near the steps? \"  is: CORRECT\n",
      "The sentence: \" He should wash the baby that the child is patting. \"  is: CORRECT\n",
      "The sentence: \" What did they find yesterday in the snow? \"  is: CORRECT\n",
      "The sentence: \" The books... \"  is: INCORRECT\n",
      "The sentence: \" The children will if they sleep. \"  is: INCORRECT\n",
      "The sentence: \" They are eating the bananas in the dark. \"  is: CORRECT\n",
      "The sentence: \" οι οδηγοί άφησαν τους επιβάτες των λεωφορείων στην επόμενη στάση \"  is: INCORRECT\n",
      "The sentence: \" ο χορευτής πήρε την ομπρέλα του και περπάτησε στη δυνατή βροχή \"  is: INCORRECT\n",
      "The sentence: \" ο προπονητής δεν να κερδίσει η ομάδα του σήμερα \"  is: INCORRECT\n",
      "The sentence: \" η γιαγιά ότι σε αυτά τα μέρη πετούσαν περίεργα πουλιά \"  is: INCORRECT\n",
      "The sentence: \" dɔxtær-i kɛ tɔ dust dɑri xɑhærɛ mænɛ \"  is: INCORRECT\n",
      "The sentence: \" kudum kɛtɑb rɔ ɛntɛxɑb kærd? \"  is: INCORRECT\n",
      "The sentence: \" væqti lɛbæs pushidam mikhoram \"  is: INCORRECT\n",
      "The sentence: \" kahli \"  is: INCORRECT\n",
      "The sentence: \" Es war eine lange dunkle Nacht. \"  is: INCORRECT\n",
      "The sentence: \" È stata una lunga notte buia \"  is: INCORRECT\n",
      "The sentence: \" یہ ایک لمبی سیاہ رات تھی \"  is: INCORRECT\n",
      "The sentence: \" C'était une longue nuit sombre \"  is: INCORRECT\n",
      "The sentence: \" لقد كانت ليلة مظلمة طويلة \"  is: INCORRECT\n",
      "The sentence: \" أحب المدرسة \"  is: INCORRECT\n"
     ]
    }
   ]
  }
 ],
 "metadata": {
  "accelerator": "GPU",
  "colab": {
   "gpuType": "V100",
   "provenance": [],
   "machine_shape": "hm"
  },
  "kernelspec": {
   "name": "python3",
   "language": "python",
   "display_name": "Python 3 (ipykernel)"
  },
  "language_info": {
   "codemirror_mode": {
    "name": "ipython",
    "version": 3
   },
   "file_extension": ".py",
   "mimetype": "text/x-python",
   "name": "python",
   "nbconvert_exporter": "python",
   "pygments_lexer": "ipython3",
   "version": "3.10.10"
  }
 },
 "nbformat": 4,
 "nbformat_minor": 0
}
